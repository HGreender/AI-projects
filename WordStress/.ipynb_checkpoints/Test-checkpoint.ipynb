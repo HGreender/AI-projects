{
 "cells": [
  {
   "cell_type": "code",
   "execution_count": 1,
   "id": "0e14aee5-8e73-4384-9ce2-617ac2266f2b",
   "metadata": {},
   "outputs": [],
   "source": [
    "import torch\n",
    "import torch.nn as nn\n",
    "import torch.optim as optim\n",
    "from torch.utils.data import Dataset, DataLoader\n",
    "import pandas as pd\n",
    "import numpy as np\n",
    "from tqdm import tqdm\n",
    "import os"
   ]
  },
  {
   "cell_type": "code",
   "execution_count": 2,
   "id": "9d6d3cbb-e745-4044-b8fe-fcf4ebdeb2e3",
   "metadata": {},
   "outputs": [],
   "source": [
    "# Функция для построения словаря символов из списка слов.\n",
    "def build_vocab(words):\n",
    "    chars = set()\n",
    "    for word in words:\n",
    "        for ch in word:\n",
    "            chars.add(ch)\n",
    "    # Сортировка символов для стабильного порядка.\n",
    "    chars = sorted(list(chars))\n",
    "    # Зарезервируем индекс 0 для паддинга.\n",
    "    char2idx = {ch: idx + 1 for idx, ch in enumerate(chars)}\n",
    "    char2idx['<PAD>'] = 0\n",
    "    idx2char = {idx: ch for ch, idx in char2idx.items()}\n",
    "    return char2idx, idx2char\n",
    "\n",
    "# Преобразование слова в последовательность индексов.\n",
    "def encode_word(word, char2idx):\n",
    "    return [char2idx.get(ch, 0) for ch in word]  # если символ не найден, возвращаем 0 (PAD)"
   ]
  },
  {
   "cell_type": "code",
   "execution_count": 3,
   "id": "6e99be73-981a-4eeb-8f35-5eaa105aa3c9",
   "metadata": {},
   "outputs": [],
   "source": [
    "# Кастомный Dataset для наших данных.\n",
    "class StressDataset(Dataset):\n",
    "    def __init__(self, csv_file, char2idx=None, mode='train'):\n",
    "        \"\"\"\n",
    "        mode: 'train' - есть метка stress, 'test' - её нет.\n",
    "        \"\"\"\n",
    "        self.data = pd.read_csv(csv_file)\n",
    "        self.mode = mode\n",
    "        self.words = self.data['word'].astype(str).tolist()\n",
    "        if mode == 'train':\n",
    "            self.stresses = self.data['stress'].tolist()  # метки (1-indexed)\n",
    "        else:\n",
    "            self.stresses = None\n",
    "        self.num_syllables = self.data['num_syllables'].tolist()\n",
    "        self.ids = self.data['id'].tolist()\n",
    "\n",
    "        # Если словарь не передан, строим его по тренировочным словам.\n",
    "        if char2idx is None:\n",
    "            self.char2idx, self.idx2char = build_vocab(self.words)\n",
    "        else:\n",
    "            self.char2idx = char2idx\n",
    "        self.encoded_words = [encode_word(word, self.char2idx) for word in self.words]\n",
    "\n",
    "    def __len__(self):\n",
    "        return len(self.words)\n",
    "\n",
    "    def __getitem__(self, idx):\n",
    "        item = {\n",
    "            'id': self.ids[idx],\n",
    "            'word': self.words[idx],\n",
    "            'encoded': torch.tensor(self.encoded_words[idx], dtype=torch.long),\n",
    "            'num_syllables': self.num_syllables[idx]\n",
    "        }\n",
    "        if self.mode == 'train':\n",
    "            item['stress'] = self.stresses[idx]\n",
    "        return item\n",
    "\n",
    "    def get_char2idx(self):\n",
    "        return self.char2idx"
   ]
  },
  {
   "cell_type": "code",
   "execution_count": 4,
   "id": "2f441351-8a68-4573-a83c-fce94f36803b",
   "metadata": {},
   "outputs": [],
   "source": [
    "# Функция для формирования батча (с паддингом последовательностей).\n",
    "def collate_fn(batch):\n",
    "    ids = [b['id'] for b in batch]\n",
    "    encoded_seqs = [b['encoded'] for b in batch]\n",
    "    lengths = [len(seq) for seq in encoded_seqs]\n",
    "    padded = nn.utils.rnn.pad_sequence(encoded_seqs, batch_first=True, padding_value=0)\n",
    "    num_syllables = torch.tensor([b['num_syllables'] for b in batch], dtype=torch.long)\n",
    "    stresses = None\n",
    "    if 'stress' in batch[0]:\n",
    "        stresses = torch.tensor([b['stress'] for b in batch], dtype=torch.long)\n",
    "    return {\n",
    "        'id': ids,\n",
    "        'encoded': padded,\n",
    "        'lengths': lengths,\n",
    "        'num_syllables': num_syllables,\n",
    "        'stress': stresses\n",
    "    }"
   ]
  },
  {
   "cell_type": "code",
   "execution_count": 5,
   "id": "27b7d5ce-838f-4bf4-b77b-8aaffb0b510b",
   "metadata": {},
   "outputs": [],
   "source": [
    "# Определяем модель: эмбеддинги, двунаправленный LSTM и линейный слой.\n",
    "class StressModel(nn.Module):\n",
    "    def __init__(self, vocab_size, embed_dim=64, hidden_size=128, num_classes=6):\n",
    "        super(StressModel, self).__init__()\n",
    "        self.embedding = nn.Embedding(vocab_size, embed_dim, padding_idx=0)\n",
    "        self.lstm = nn.LSTM(embed_dim, hidden_size, batch_first=True, bidirectional=True)\n",
    "        self.fc = nn.Linear(hidden_size * 2, num_classes)\n",
    "    \n",
    "    def forward(self, x, lengths):\n",
    "        # x имеет форму: (batch_size, seq_len)\n",
    "        embedded = self.embedding(x)  # (batch_size, seq_len, embed_dim)\n",
    "        # Упаковываем последовательности для LSTM (учитывая переменную длину).\n",
    "        packed = nn.utils.rnn.pack_padded_sequence(embedded, lengths, batch_first=True, enforce_sorted=False)\n",
    "        packed_output, (h_n, c_n) = self.lstm(packed)\n",
    "        # h_n имеет размер (num_directions, batch, hidden_size) (так как используется один слой)\n",
    "        h_forward = h_n[0]\n",
    "        h_backward = h_n[1]\n",
    "        h = torch.cat((h_forward, h_backward), dim=1)  # (batch, hidden_size*2)\n",
    "        logits = self.fc(h)  # (batch, num_classes)\n",
    "        return logits"
   ]
  },
  {
   "cell_type": "code",
   "execution_count": 6,
   "id": "fba0b431-995c-4863-889c-8fdcce8f4dd5",
   "metadata": {},
   "outputs": [],
   "source": [
    "# Функция потерь: для каждого примера используем только первые num_syllables логитов.\n",
    "def masked_cross_entropy_loss(logits, stresses, num_syllables):\n",
    "    # logits: (batch, 6)\n",
    "    # stresses: (batch,) – метки (1-indexed), приводим к 0-indexed\n",
    "    batch_loss = 0.0\n",
    "    batch_size = logits.size(0)\n",
    "    for i in range(batch_size):\n",
    "        valid_len = num_syllables[i].item()  # число слогов в слове\n",
    "        logit_i = logits[i, :valid_len]  # учитываем только допустимые позиции\n",
    "        target = stresses[i].item() - 1  # перевод в 0-indexed\n",
    "        loss_i = nn.functional.cross_entropy(logit_i.unsqueeze(0), torch.tensor([target], device=logits.device))\n",
    "        batch_loss += loss_i\n",
    "    return batch_loss / batch_size\n",
    "\n",
    "# Функция обучения модели.\n",
    "def train_model(model, dataloader, optimizer, device):\n",
    "    model.train()\n",
    "    total_loss = 0.0\n",
    "    for batch in tqdm(dataloader, desc=\"Training\"):\n",
    "        optimizer.zero_grad()\n",
    "        inputs = batch['encoded'].to(device)\n",
    "        lengths = batch['lengths']\n",
    "        logits = model(inputs, lengths)\n",
    "        stresses = batch['stress'].to(device)\n",
    "        num_syllables = batch['num_syllables'].to(device)\n",
    "        loss = masked_cross_entropy_loss(logits, stresses, num_syllables)\n",
    "        loss.backward()\n",
    "        optimizer.step()\n",
    "        total_loss += loss.item()\n",
    "    return total_loss / len(dataloader)\n",
    "\n",
    "# Функция для оценки точности (на обучающем/валидационном наборе).\n",
    "def evaluate_model(model, dataloader, device):\n",
    "    model.eval()\n",
    "    correct = 0\n",
    "    total = 0\n",
    "    with torch.no_grad():\n",
    "        for batch in tqdm(dataloader, desc=\"Evaluating\"):\n",
    "            inputs = batch['encoded'].to(device)\n",
    "            lengths = batch['lengths']\n",
    "            logits = model(inputs, lengths)\n",
    "            stresses = batch['stress'].to(device)\n",
    "            num_syllables = batch['num_syllables'].to(device)\n",
    "            for i in range(logits.size(0)):\n",
    "                valid_len = num_syllables[i].item()\n",
    "                logit_i = logits[i, :valid_len]\n",
    "                pred = torch.argmax(logit_i).item()  # 0-indexed\n",
    "                true = stresses[i].item() - 1\n",
    "                if pred == true:\n",
    "                    correct += 1\n",
    "                total += 1\n",
    "    return correct / total\n",
    "\n",
    "# Функция предсказания на тестовых данных.\n",
    "def predict(model, dataloader, device):\n",
    "    model.eval()\n",
    "    predictions = []\n",
    "    ids_all = []\n",
    "    with torch.no_grad():\n",
    "        for batch in tqdm(dataloader, desc=\"Predicting\"):\n",
    "            inputs = batch['encoded'].to(device)\n",
    "            lengths = batch['lengths']\n",
    "            logits = model(inputs, lengths)\n",
    "            num_syllables = batch['num_syllables']\n",
    "            ids_batch = batch['id']\n",
    "            for i in range(logits.size(0)):\n",
    "                valid_len = num_syllables[i].item()\n",
    "                logit_i = logits[i, :valid_len]\n",
    "                # Выбираем индекс с максимальным значением и переводим в 1-indexed.\n",
    "                pred = torch.argmax(logit_i).item() + 1\n",
    "                predictions.append(pred)\n",
    "            ids_all.extend(ids_batch)\n",
    "    return ids_all, predictions"
   ]
  },
  {
   "cell_type": "code",
   "execution_count": 16,
   "id": "be48e5c0-fada-4207-9c9d-877a5588876a",
   "metadata": {},
   "outputs": [],
   "source": [
    "# Основная функция: режимы обучения и предсказания.\n",
    "def main(args):\n",
    "    device = torch.device(\"cuda\" if torch.cuda.is_available() else \"cpu\")\n",
    "    \n",
    "    if args.mode == 'train':\n",
    "        # Загружаем тренировочные данные.\n",
    "        train_dataset = StressDataset('train.csv', mode='train')\n",
    "        max_num_syllables = max(train_dataset.num_syllables)\n",
    "        # Сохраним словарь символов для использования при предсказании.\n",
    "        char2idx = train_dataset.char2idx\n",
    "        train_loader = DataLoader(train_dataset, batch_size=args.batch_size, shuffle=True, collate_fn=collate_fn)\n",
    "        # Здесь можно организовать валидацию; для простоты используем часть тренировочных данных.\n",
    "        val_loader = DataLoader(train_dataset, batch_size=args.batch_size, shuffle=False, collate_fn=collate_fn)\n",
    "        \n",
    "        model = StressModel(vocab_size=len(char2idx), embed_dim=args.embed_dim, hidden_size=args.hidden_size, num_classes=max_num_syllables)\n",
    "        model.to(device)\n",
    "        optimizer = optim.Adam(model.parameters(), lr=args.lr)\n",
    "        num_epochs = args.epochs\n",
    "        \n",
    "        for epoch in range(num_epochs):\n",
    "            train_loss = train_model(model, train_loader, optimizer, device)\n",
    "            val_acc = evaluate_model(model, val_loader, device)\n",
    "            print(f\"Epoch {epoch+1}/{num_epochs}, Loss: {train_loss:.4f}, Accuracy: {val_acc:.4f}\")\n",
    "        \n",
    "        # Сохраняем модель и словарь.\n",
    "        torch.save({'model_state_dict': model.state_dict(), 'char2idx': char2idx}, args.model_path)\n",
    "        print(f\"Model saved to {args.model_path}\")\n",
    "    \n",
    "    elif args.mode == 'predict':\n",
    "        # Загружаем словарь.\n",
    "        checkpoint = torch.load(args.model_path, map_location=device)\n",
    "        char2idx = checkpoint['char2idx']\n",
    "        # Загружаем тестовый датасет.\n",
    "        test_dataset = StressDataset('test.csv', char2idx=char2idx, mode='test')\n",
    "        test_loader = DataLoader(test_dataset, batch_size=args.batch_size, shuffle=False, collate_fn=collate_fn)\n",
    "        max_num_syllables = max(test_dataset.num_syllables)\n",
    "        # Загружаем модель.\n",
    "        model = StressModel(vocab_size=len(char2idx), embed_dim=args.embed_dim, hidden_size=args.hidden_size, num_classes=max_num_syllables)\n",
    "        model.load_state_dict(checkpoint['model_state_dict'])\n",
    "        model.to(device)\n",
    "        # Предсказываем\n",
    "        ids_all, preds = predict(model, test_loader, device)\n",
    "        # Сохраняем сабмит в формате: id,stress\n",
    "        submission = pd.DataFrame({'id': ids_all, 'words': test_dataset.words, 'stress': preds})\n",
    "        submission.to_csv(args.output, index=False)\n",
    "        print(f\"Submission saved to {args.output}\")"
   ]
  },
  {
   "cell_type": "code",
   "execution_count": 17,
   "id": "30a18de4-e489-415b-a0df-f7ecb653c968",
   "metadata": {},
   "outputs": [],
   "source": [
    "class Args():\n",
    "    def __init__(self, args):\n",
    "        self.mode = args['mode']\n",
    "        self.batch_size = args['batch_size']\n",
    "        self.epochs = args['epochs']\n",
    "        self.lr = args['lr']\n",
    "        self.embed_dim = args['embed_dim']\n",
    "        self.hidden_size = args['hidden_size']\n",
    "        self.model_path = args['model_path']\n",
    "        self.output = args['output']"
   ]
  },
  {
   "cell_type": "code",
   "execution_count": 18,
   "id": "4cefb54b-d377-45af-87a1-3d3935ec4ba3",
   "metadata": {
    "scrolled": true
   },
   "outputs": [
    {
     "name": "stderr",
     "output_type": "stream",
     "text": [
      "Training: 100%|██████████████████████████████████████████████████████████████████████| 992/992 [00:44<00:00, 22.27it/s]\n",
      "Evaluating: 100%|████████████████████████████████████████████████████████████████████| 992/992 [00:19<00:00, 49.80it/s]\n"
     ]
    },
    {
     "name": "stdout",
     "output_type": "stream",
     "text": [
      "Epoch 1/10, Loss: 0.7334, Accuracy: 0.7615\n"
     ]
    },
    {
     "name": "stderr",
     "output_type": "stream",
     "text": [
      "Training: 100%|██████████████████████████████████████████████████████████████████████| 992/992 [00:43<00:00, 22.75it/s]\n",
      "Evaluating: 100%|████████████████████████████████████████████████████████████████████| 992/992 [00:18<00:00, 53.78it/s]\n"
     ]
    },
    {
     "name": "stdout",
     "output_type": "stream",
     "text": [
      "Epoch 2/10, Loss: 0.5203, Accuracy: 0.8250\n"
     ]
    },
    {
     "name": "stderr",
     "output_type": "stream",
     "text": [
      "Training: 100%|██████████████████████████████████████████████████████████████████████| 992/992 [00:43<00:00, 22.91it/s]\n",
      "Evaluating: 100%|████████████████████████████████████████████████████████████████████| 992/992 [00:18<00:00, 52.78it/s]\n"
     ]
    },
    {
     "name": "stdout",
     "output_type": "stream",
     "text": [
      "Epoch 3/10, Loss: 0.4233, Accuracy: 0.8570\n"
     ]
    },
    {
     "name": "stderr",
     "output_type": "stream",
     "text": [
      "Training: 100%|██████████████████████████████████████████████████████████████████████| 992/992 [00:42<00:00, 23.13it/s]\n",
      "Evaluating: 100%|████████████████████████████████████████████████████████████████████| 992/992 [00:17<00:00, 55.14it/s]\n"
     ]
    },
    {
     "name": "stdout",
     "output_type": "stream",
     "text": [
      "Epoch 4/10, Loss: 0.3532, Accuracy: 0.8901\n"
     ]
    },
    {
     "name": "stderr",
     "output_type": "stream",
     "text": [
      "Training: 100%|██████████████████████████████████████████████████████████████████████| 992/992 [00:43<00:00, 23.01it/s]\n",
      "Evaluating: 100%|████████████████████████████████████████████████████████████████████| 992/992 [00:17<00:00, 55.30it/s]\n"
     ]
    },
    {
     "name": "stdout",
     "output_type": "stream",
     "text": [
      "Epoch 5/10, Loss: 0.2968, Accuracy: 0.9113\n"
     ]
    },
    {
     "name": "stderr",
     "output_type": "stream",
     "text": [
      "Training: 100%|██████████████████████████████████████████████████████████████████████| 992/992 [00:43<00:00, 22.98it/s]\n",
      "Evaluating: 100%|████████████████████████████████████████████████████████████████████| 992/992 [00:17<00:00, 55.17it/s]\n"
     ]
    },
    {
     "name": "stdout",
     "output_type": "stream",
     "text": [
      "Epoch 6/10, Loss: 0.2502, Accuracy: 0.9218\n"
     ]
    },
    {
     "name": "stderr",
     "output_type": "stream",
     "text": [
      "Training: 100%|██████████████████████████████████████████████████████████████████████| 992/992 [00:42<00:00, 23.09it/s]\n",
      "Evaluating: 100%|████████████████████████████████████████████████████████████████████| 992/992 [00:18<00:00, 54.92it/s]\n"
     ]
    },
    {
     "name": "stdout",
     "output_type": "stream",
     "text": [
      "Epoch 7/10, Loss: 0.2113, Accuracy: 0.9391\n"
     ]
    },
    {
     "name": "stderr",
     "output_type": "stream",
     "text": [
      "Training: 100%|██████████████████████████████████████████████████████████████████████| 992/992 [00:42<00:00, 23.50it/s]\n",
      "Evaluating: 100%|████████████████████████████████████████████████████████████████████| 992/992 [00:18<00:00, 55.03it/s]\n"
     ]
    },
    {
     "name": "stdout",
     "output_type": "stream",
     "text": [
      "Epoch 8/10, Loss: 0.1780, Accuracy: 0.9505\n"
     ]
    },
    {
     "name": "stderr",
     "output_type": "stream",
     "text": [
      "Training: 100%|██████████████████████████████████████████████████████████████████████| 992/992 [00:42<00:00, 23.12it/s]\n",
      "Evaluating: 100%|████████████████████████████████████████████████████████████████████| 992/992 [00:18<00:00, 54.34it/s]\n"
     ]
    },
    {
     "name": "stdout",
     "output_type": "stream",
     "text": [
      "Epoch 9/10, Loss: 0.1487, Accuracy: 0.9586\n"
     ]
    },
    {
     "name": "stderr",
     "output_type": "stream",
     "text": [
      "Training: 100%|██████████████████████████████████████████████████████████████████████| 992/992 [00:42<00:00, 23.25it/s]\n",
      "Evaluating: 100%|████████████████████████████████████████████████████████████████████| 992/992 [00:18<00:00, 54.70it/s]\n"
     ]
    },
    {
     "name": "stdout",
     "output_type": "stream",
     "text": [
      "Epoch 10/10, Loss: 0.1252, Accuracy: 0.9679\n",
      "Model saved to stress_model.pth\n"
     ]
    }
   ],
   "source": [
    "if __name__ == '__main__':\n",
    "    args = dict()\n",
    "    args['mode'] = 'train'\n",
    "    # args[mode] = 'predict'\n",
    "    args['batch_size'] = 64\n",
    "    args['epochs'] = 10\n",
    "    args['lr'] = 0.001\n",
    "    args['embed_dim'] = 64\n",
    "    args['hidden_size'] = 128\n",
    "    args['model_path'] = 'stress_model.pth'\n",
    "    args['output'] = 'submission.csv'\n",
    "    parser = Args(args)\n",
    "    main(parser)"
   ]
  },
  {
   "cell_type": "code",
   "execution_count": 19,
   "id": "ea96c8c8-8261-4e77-bdee-e3cf19d6f308",
   "metadata": {},
   "outputs": [
    {
     "name": "stderr",
     "output_type": "stream",
     "text": [
      "Predicting: 100%|████████████████████████████████████████████████████████████████████| 469/469 [00:06<00:00, 76.02it/s]\n"
     ]
    },
    {
     "name": "stdout",
     "output_type": "stream",
     "text": [
      "Submission saved to submission.csv\n"
     ]
    }
   ],
   "source": [
    "if __name__ == '__main__':\n",
    "    args['mode'] = 'predict'\n",
    "    parser = Args(args)\n",
    "    main(parser)"
   ]
  },
  {
   "cell_type": "code",
   "execution_count": null,
   "id": "1550c00f-1572-4bd3-bf59-e0772937b26c",
   "metadata": {},
   "outputs": [],
   "source": []
  }
 ],
 "metadata": {
  "kernelspec": {
   "display_name": "Python 3 (ipykernel)",
   "language": "python",
   "name": "python3"
  },
  "language_info": {
   "codemirror_mode": {
    "name": "ipython",
    "version": 3
   },
   "file_extension": ".py",
   "mimetype": "text/x-python",
   "name": "python",
   "nbconvert_exporter": "python",
   "pygments_lexer": "ipython3",
   "version": "3.10.7"
  }
 },
 "nbformat": 4,
 "nbformat_minor": 5
}
