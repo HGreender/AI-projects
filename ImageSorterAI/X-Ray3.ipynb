{
 "cells": [
  {
   "cell_type": "code",
   "execution_count": 1,
   "id": "9ad38707-c697-4c4c-8904-8e8839be5bc9",
   "metadata": {},
   "outputs": [],
   "source": [
    "import os\n",
    "import torch\n",
    "import torch.nn as nn\n",
    "import torch.optim as optim\n",
    "from torchvision import models, transforms, datasets\n",
    "from torch.utils.data import DataLoader, random_split\n",
    "import pandas as pd\n",
    "from PIL import Image\n",
    "import matplotlib.pyplot as plt\n",
    "from tqdm import tqdm\n",
    "from sklearn.metrics import confusion_matrix, ConfusionMatrixDisplay\n",
    "import seaborn as sns\n",
    "import numpy as np"
   ]
  },
  {
   "cell_type": "code",
   "execution_count": 2,
   "id": "167ddb77-d3db-4241-8f5e-95d8e5a72814",
   "metadata": {},
   "outputs": [],
   "source": [
    "# CONFIG\n",
    "DATA_DIR = \"Train\"\n",
    "VAL_DIR = \"Validation\"\n",
    "WEIGHTS_PATH = \"xray_model.pt\"\n",
    "OUTPUT_CSV = \"validation_results.csv\"\n",
    "LOSS_PLOT_PATH = \"loss_accuracy_plot.png\"\n",
    "BATCH_SIZE = 32\n",
    "NUM_CLASSES = 3\n",
    "EPOCHS = 60\n",
    "DEVICE = torch.device(\"cuda\" if torch.cuda.is_available() else \"cpu\")\n",
    "\n",
    "# LABELS\n",
    "LABEL_MAP = {\"FRONTAL\": 0, \"LATERAL\": 1, \"TRASH\": 2}\n",
    "INV_LABEL_MAP = {v: k.lower() for k, v in LABEL_MAP.items()}\n",
    "\n",
    "# TRANSFORMS\n",
    "train_transform = transforms.Compose([\n",
    "    transforms.Resize((224, 224)),\n",
    "    transforms.RandomHorizontalFlip(),\n",
    "    transforms.RandomRotation(10),\n",
    "    transforms.ColorJitter(brightness=0.2, contrast=0.2),\n",
    "    transforms.ToTensor(),\n",
    "    transforms.Normalize(mean=(0.485, 0.456, 0.406), std=(0.229, 0.224, 0.225))\n",
    "])\n",
    "val_transform = transforms.Compose([\n",
    "    transforms.Resize((224, 224)),\n",
    "    transforms.ToTensor(),\n",
    "    transforms.Normalize(mean=(0.485, 0.456, 0.406), std=(0.229, 0.224, 0.225))\n",
    "])"
   ]
  },
  {
   "cell_type": "code",
   "execution_count": 3,
   "id": "1ca0d2a7-ac17-438c-967b-3769b1f23bd5",
   "metadata": {},
   "outputs": [],
   "source": [
    "# CUSTOM DATASET\n",
    "class CustomDataset(torch.utils.data.Dataset):\n",
    "    def __init__(self, root_dir, label_map, transform):\n",
    "        self.samples = []\n",
    "        self.transform = transform\n",
    "        for label_name, label_idx in label_map.items():\n",
    "            folder = os.path.join(root_dir, label_name)\n",
    "            for fname in os.listdir(folder):\n",
    "                if not fname.lower().endswith((\".png\", \".jpg\", \".jpeg\")):\n",
    "                    continue\n",
    "                self.samples.append((os.path.join(folder, fname), label_idx))\n",
    "\n",
    "    def __len__(self):\n",
    "        return len(self.samples)\n",
    "\n",
    "    def __getitem__(self, idx):\n",
    "        path, label = self.samples[idx]\n",
    "        image = Image.open(path).convert(\"RGB\")\n",
    "        image = self.transform(image)\n",
    "        return image, label\n",
    "\n",
    "# MODEL\n",
    "def get_model():\n",
    "    model = models.resnet18(pretrained=True)\n",
    "\n",
    "    for param in model.parameters():\n",
    "        param.requires_grad = False\n",
    "\n",
    "    for param in model.layer4.parameters():\n",
    "        param.requires_grad = True\n",
    "\n",
    "    model.fc = nn.Sequential(\n",
    "        nn.Dropout(0.5),\n",
    "        nn.Linear(model.fc.in_features, NUM_CLASSES)\n",
    "    )\n",
    "\n",
    "    return model.to(DEVICE)\n",
    "\n",
    "# TRAIN\n",
    "def train_model():\n",
    "    dataset = CustomDataset(DATA_DIR, LABEL_MAP, train_transform)\n",
    "    val_size = int(0.1 * len(dataset))\n",
    "    train_size = len(dataset) - val_size\n",
    "    train_dataset, val_dataset = random_split(dataset, [train_size, val_size])\n",
    "\n",
    "    train_loader = DataLoader(train_dataset, batch_size=BATCH_SIZE, shuffle=True)\n",
    "    val_loader = DataLoader(val_dataset, batch_size=BATCH_SIZE, shuffle=False)\n",
    "\n",
    "    model = get_model()\n",
    "    criterion = nn.CrossEntropyLoss()\n",
    "    optimizer = optim.Adam(filter(lambda p: p.requires_grad, model.parameters()), lr=1e-4)\n",
    "\n",
    "    train_losses, val_losses = [], []\n",
    "    train_accs, val_accs = [], []\n",
    "\n",
    "    for epoch in range(EPOCHS):\n",
    "        model.train()\n",
    "        total_train_loss, correct_train, total_train = 0, 0, 0\n",
    "\n",
    "        for inputs, labels in tqdm(train_loader, desc=f\"Epoch {epoch+1}/{EPOCHS} - Training\"):\n",
    "            inputs, labels = inputs.to(DEVICE), labels.to(DEVICE)\n",
    "\n",
    "            optimizer.zero_grad()\n",
    "            outputs = model(inputs)\n",
    "            loss = criterion(outputs, labels)\n",
    "            loss.backward()\n",
    "            optimizer.step()\n",
    "            total_train_loss += loss.item()\n",
    "\n",
    "            preds = outputs.argmax(1)\n",
    "            correct_train += (preds == labels).sum().item()\n",
    "            total_train += labels.size(0)\n",
    "\n",
    "        model.eval()\n",
    "        total_val_loss, correct_val, total_val = 0, 0, 0\n",
    "\n",
    "        with torch.no_grad():\n",
    "            for inputs, labels in tqdm(val_loader, desc=f\"Epoch {epoch+1}/{EPOCHS} - Validation\"):\n",
    "                inputs, labels = inputs.to(DEVICE), labels.to(DEVICE)\n",
    "                outputs = model(inputs)\n",
    "                loss = criterion(outputs, labels)\n",
    "                total_val_loss += loss.item()\n",
    "\n",
    "                preds = outputs.argmax(1)\n",
    "                correct_val += (preds == labels).sum().item()\n",
    "                total_val += labels.size(0)\n",
    "\n",
    "        avg_train_loss = total_train_loss / len(train_loader)\n",
    "        avg_val_loss = total_val_loss / len(val_loader)\n",
    "        train_acc = correct_train / total_train\n",
    "        val_acc = correct_val / total_val\n",
    "\n",
    "        train_losses.append(avg_train_loss)\n",
    "        val_losses.append(avg_val_loss)\n",
    "        train_accs.append(train_acc)\n",
    "        val_accs.append(val_acc)\n",
    "\n",
    "        print(f\"Epoch {epoch+1}/{EPOCHS} | Train Loss: {avg_train_loss:.4f}, Acc: {train_acc:.4f} | Val Loss: {avg_val_loss:.4f}, Acc: {val_acc:.4f}\")\n",
    "\n",
    "    torch.save(model.state_dict(), WEIGHTS_PATH)\n",
    "    print(\"Model saved.\")\n",
    "\n",
    "    # Plot losses and accuracies (show and save)\n",
    "    epochs = range(1, EPOCHS + 1)\n",
    "    fig, ax1 = plt.subplots(figsize=(10, 6))\n",
    "\n",
    "    ax1.plot(epochs, train_losses, label='Train Loss', color='blue')\n",
    "    ax1.plot(epochs, val_losses, label='Val Loss', color='orange')\n",
    "    ax1.set_xlabel('Epoch')\n",
    "    ax1.set_ylabel('Loss')\n",
    "    ax1.legend(loc='upper left')\n",
    "\n",
    "    ax2 = ax1.twinx()\n",
    "    ax2.plot(epochs, train_accs, label='Train Acc', color='green', linestyle='--')\n",
    "    ax2.plot(epochs, val_accs, label='Val Acc', color='red', linestyle='--')\n",
    "    ax2.set_ylabel('Accuracy')\n",
    "    ax2.legend(loc='upper right')\n",
    "\n",
    "    plt.title('Loss and Accuracy over Epochs')\n",
    "    plt.grid(True)\n",
    "    plt.savefig(LOSS_PLOT_PATH)\n",
    "    plt.show()\n",
    "\n",
    "# INFERENCE\n",
    "class ValDataset(torch.utils.data.Dataset):\n",
    "    def __init__(self, root_dir, transform):\n",
    "        self.paths = []\n",
    "        self.ids = []\n",
    "        self.labels = []\n",
    "        self.transform = transform\n",
    "        for label_name, label_idx in LABEL_MAP.items():\n",
    "            folder = os.path.join(root_dir, label_name)\n",
    "            for fname in os.listdir(folder):\n",
    "                if not fname.lower().endswith(('.png', '.jpg', '.jpeg')):\n",
    "                    continue\n",
    "                self.ids.append(fname)\n",
    "                self.labels.append(label_idx)\n",
    "                self.paths.append(os.path.join(folder, fname))\n",
    "\n",
    "    def __len__(self):\n",
    "        return len(self.paths)\n",
    "\n",
    "    def __getitem__(self, idx):\n",
    "        img = Image.open(self.paths[idx]).convert(\"RGB\")\n",
    "        img = self.transform(img)\n",
    "        return self.ids[idx], img, self.labels[idx]\n",
    "\n",
    "def infer():\n",
    "    model = get_model()\n",
    "    model.load_state_dict(torch.load(WEIGHTS_PATH, map_location=DEVICE))\n",
    "    model.eval()\n",
    "\n",
    "    val_dataset = ValDataset(VAL_DIR, val_transform)\n",
    "    val_loader = DataLoader(val_dataset, batch_size=1, shuffle=False)\n",
    "\n",
    "    rows = []\n",
    "    y_true = []\n",
    "    y_pred = []\n",
    "\n",
    "    with torch.no_grad():\n",
    "        for img_id, img, label in tqdm(val_loader, desc=\"Inference\"):\n",
    "            img = img.to(DEVICE)\n",
    "            output = model(img)\n",
    "            probs = torch.softmax(output, dim=1).cpu().numpy()[0]\n",
    "            pred_class = output.argmax(1).item()\n",
    "\n",
    "            rows.append([img_id[0], *probs])\n",
    "            y_true.append(label)\n",
    "            y_pred.append(pred_class)\n",
    "\n",
    "    # Save CSV\n",
    "    df = pd.DataFrame(rows, columns=[\"image_id\", \"frontal\", \"lateral\", \"trash\"])\n",
    "    df.to_csv(OUTPUT_CSV, index=False)\n",
    "    print(f\"Saved predictions to {OUTPUT_CSV}\")\n",
    "\n",
    "    # Confusion matrix\n",
    "    cm = confusion_matrix(y_true, y_pred)\n",
    "    disp = ConfusionMatrixDisplay(confusion_matrix=cm, display_labels=list(INV_LABEL_MAP.values()))\n",
    "    disp.plot(cmap='Blues', values_format='d')\n",
    "    plt.title(\"Confusion Matrix - Validation\")\n",
    "    plt.grid(False)\n",
    "    plt.show()\n",
    "\n"
   ]
  },
  {
   "cell_type": "code",
   "execution_count": 4,
   "id": "9cae9328-dc21-4b27-a4f8-fad860d37142",
   "metadata": {},
   "outputs": [
    {
     "name": "stderr",
     "output_type": "stream",
     "text": [
      "A:\\Program Files\\Python310\\lib\\site-packages\\torchvision\\models\\_utils.py:208: UserWarning: The parameter 'pretrained' is deprecated since 0.13 and may be removed in the future, please use 'weights' instead.\n",
      "  warnings.warn(\n",
      "A:\\Program Files\\Python310\\lib\\site-packages\\torchvision\\models\\_utils.py:223: UserWarning: Arguments other than a weight enum or `None` for 'weights' are deprecated since 0.13 and may be removed in the future. The current behavior is equivalent to passing `weights=ResNet18_Weights.IMAGENET1K_V1`. You can also use `weights=ResNet18_Weights.DEFAULT` to get the most up-to-date weights.\n",
      "  warnings.warn(msg)\n",
      "Epoch 1/60 - Training: 100%|█████████████████████████████████████████████████████████| 118/118 [01:29<00:00,  1.32it/s]\n",
      "Epoch 1/60 - Validation: 100%|█████████████████████████████████████████████████████████| 14/14 [00:10<00:00,  1.39it/s]\n"
     ]
    },
    {
     "name": "stdout",
     "output_type": "stream",
     "text": [
      "Epoch 1/60 | Train Loss: 0.0839, Acc: 0.9687 | Val Loss: 0.0085, Acc: 0.9952\n"
     ]
    },
    {
     "name": "stderr",
     "output_type": "stream",
     "text": [
      "Epoch 2/60 - Training: 100%|█████████████████████████████████████████████████████████| 118/118 [00:42<00:00,  2.78it/s]\n",
      "Epoch 2/60 - Validation: 100%|█████████████████████████████████████████████████████████| 14/14 [00:07<00:00,  1.78it/s]\n"
     ]
    },
    {
     "name": "stdout",
     "output_type": "stream",
     "text": [
      "Epoch 2/60 | Train Loss: 0.0191, Acc: 0.9942 | Val Loss: 0.0024, Acc: 1.0000\n"
     ]
    },
    {
     "name": "stderr",
     "output_type": "stream",
     "text": [
      "Epoch 3/60 - Training: 100%|█████████████████████████████████████████████████████████| 118/118 [00:47<00:00,  2.48it/s]\n",
      "Epoch 3/60 - Validation: 100%|█████████████████████████████████████████████████████████| 14/14 [00:04<00:00,  3.13it/s]\n"
     ]
    },
    {
     "name": "stdout",
     "output_type": "stream",
     "text": [
      "Epoch 3/60 | Train Loss: 0.0099, Acc: 0.9966 | Val Loss: 0.0033, Acc: 0.9976\n"
     ]
    },
    {
     "name": "stderr",
     "output_type": "stream",
     "text": [
      "Epoch 4/60 - Training: 100%|█████████████████████████████████████████████████████████| 118/118 [00:41<00:00,  2.83it/s]\n",
      "Epoch 4/60 - Validation: 100%|█████████████████████████████████████████████████████████| 14/14 [00:04<00:00,  2.98it/s]\n"
     ]
    },
    {
     "name": "stdout",
     "output_type": "stream",
     "text": [
      "Epoch 4/60 | Train Loss: 0.0028, Acc: 0.9995 | Val Loss: 0.0019, Acc: 1.0000\n"
     ]
    },
    {
     "name": "stderr",
     "output_type": "stream",
     "text": [
      "Epoch 5/60 - Training: 100%|█████████████████████████████████████████████████████████| 118/118 [00:42<00:00,  2.80it/s]\n",
      "Epoch 5/60 - Validation: 100%|█████████████████████████████████████████████████████████| 14/14 [00:04<00:00,  3.15it/s]\n"
     ]
    },
    {
     "name": "stdout",
     "output_type": "stream",
     "text": [
      "Epoch 5/60 | Train Loss: 0.0050, Acc: 0.9987 | Val Loss: 0.0009, Acc: 1.0000\n"
     ]
    },
    {
     "name": "stderr",
     "output_type": "stream",
     "text": [
      "Epoch 6/60 - Training: 100%|█████████████████████████████████████████████████████████| 118/118 [00:41<00:00,  2.85it/s]\n",
      "Epoch 6/60 - Validation: 100%|█████████████████████████████████████████████████████████| 14/14 [00:04<00:00,  2.97it/s]\n"
     ]
    },
    {
     "name": "stdout",
     "output_type": "stream",
     "text": [
      "Epoch 6/60 | Train Loss: 0.0030, Acc: 0.9992 | Val Loss: 0.0012, Acc: 1.0000\n"
     ]
    },
    {
     "name": "stderr",
     "output_type": "stream",
     "text": [
      "Epoch 7/60 - Training: 100%|█████████████████████████████████████████████████████████| 118/118 [00:41<00:00,  2.82it/s]\n",
      "Epoch 7/60 - Validation: 100%|█████████████████████████████████████████████████████████| 14/14 [00:04<00:00,  3.04it/s]\n"
     ]
    },
    {
     "name": "stdout",
     "output_type": "stream",
     "text": [
      "Epoch 7/60 | Train Loss: 0.0020, Acc: 0.9997 | Val Loss: 0.0009, Acc: 1.0000\n"
     ]
    },
    {
     "name": "stderr",
     "output_type": "stream",
     "text": [
      "Epoch 8/60 - Training: 100%|█████████████████████████████████████████████████████████| 118/118 [00:41<00:00,  2.82it/s]\n",
      "Epoch 8/60 - Validation: 100%|█████████████████████████████████████████████████████████| 14/14 [00:04<00:00,  3.00it/s]\n"
     ]
    },
    {
     "name": "stdout",
     "output_type": "stream",
     "text": [
      "Epoch 8/60 | Train Loss: 0.0012, Acc: 0.9997 | Val Loss: 0.0016, Acc: 1.0000\n"
     ]
    },
    {
     "name": "stderr",
     "output_type": "stream",
     "text": [
      "Epoch 9/60 - Training: 100%|█████████████████████████████████████████████████████████| 118/118 [00:43<00:00,  2.71it/s]\n",
      "Epoch 9/60 - Validation: 100%|█████████████████████████████████████████████████████████| 14/14 [00:04<00:00,  3.13it/s]\n"
     ]
    },
    {
     "name": "stdout",
     "output_type": "stream",
     "text": [
      "Epoch 9/60 | Train Loss: 0.0021, Acc: 0.9995 | Val Loss: 0.0009, Acc: 1.0000\n"
     ]
    },
    {
     "name": "stderr",
     "output_type": "stream",
     "text": [
      "Epoch 10/60 - Training: 100%|████████████████████████████████████████████████████████| 118/118 [00:41<00:00,  2.82it/s]\n",
      "Epoch 10/60 - Validation: 100%|████████████████████████████████████████████████████████| 14/14 [00:04<00:00,  2.89it/s]\n"
     ]
    },
    {
     "name": "stdout",
     "output_type": "stream",
     "text": [
      "Epoch 10/60 | Train Loss: 0.0024, Acc: 0.9995 | Val Loss: 0.0008, Acc: 1.0000\n"
     ]
    },
    {
     "name": "stderr",
     "output_type": "stream",
     "text": [
      "Epoch 11/60 - Training: 100%|████████████████████████████████████████████████████████| 118/118 [00:42<00:00,  2.75it/s]\n",
      "Epoch 11/60 - Validation: 100%|████████████████████████████████████████████████████████| 14/14 [00:04<00:00,  2.99it/s]\n"
     ]
    },
    {
     "name": "stdout",
     "output_type": "stream",
     "text": [
      "Epoch 11/60 | Train Loss: 0.0021, Acc: 0.9995 | Val Loss: 0.0005, Acc: 1.0000\n"
     ]
    },
    {
     "name": "stderr",
     "output_type": "stream",
     "text": [
      "Epoch 12/60 - Training: 100%|████████████████████████████████████████████████████████| 118/118 [00:42<00:00,  2.78it/s]\n",
      "Epoch 12/60 - Validation: 100%|████████████████████████████████████████████████████████| 14/14 [00:04<00:00,  3.02it/s]\n"
     ]
    },
    {
     "name": "stdout",
     "output_type": "stream",
     "text": [
      "Epoch 12/60 | Train Loss: 0.0018, Acc: 0.9997 | Val Loss: 0.0001, Acc: 1.0000\n"
     ]
    },
    {
     "name": "stderr",
     "output_type": "stream",
     "text": [
      "Epoch 13/60 - Training: 100%|████████████████████████████████████████████████████████| 118/118 [00:42<00:00,  2.80it/s]\n",
      "Epoch 13/60 - Validation: 100%|████████████████████████████████████████████████████████| 14/14 [00:04<00:00,  2.92it/s]\n"
     ]
    },
    {
     "name": "stdout",
     "output_type": "stream",
     "text": [
      "Epoch 13/60 | Train Loss: 0.0008, Acc: 1.0000 | Val Loss: 0.0032, Acc: 0.9976\n"
     ]
    },
    {
     "name": "stderr",
     "output_type": "stream",
     "text": [
      "Epoch 14/60 - Training: 100%|████████████████████████████████████████████████████████| 118/118 [00:41<00:00,  2.82it/s]\n",
      "Epoch 14/60 - Validation: 100%|████████████████████████████████████████████████████████| 14/14 [00:04<00:00,  3.05it/s]\n"
     ]
    },
    {
     "name": "stdout",
     "output_type": "stream",
     "text": [
      "Epoch 14/60 | Train Loss: 0.0008, Acc: 1.0000 | Val Loss: 0.0028, Acc: 0.9976\n"
     ]
    },
    {
     "name": "stderr",
     "output_type": "stream",
     "text": [
      "Epoch 15/60 - Training: 100%|████████████████████████████████████████████████████████| 118/118 [00:44<00:00,  2.67it/s]\n",
      "Epoch 15/60 - Validation: 100%|████████████████████████████████████████████████████████| 14/14 [00:04<00:00,  3.03it/s]\n"
     ]
    },
    {
     "name": "stdout",
     "output_type": "stream",
     "text": [
      "Epoch 15/60 | Train Loss: 0.0007, Acc: 1.0000 | Val Loss: 0.0016, Acc: 1.0000\n"
     ]
    },
    {
     "name": "stderr",
     "output_type": "stream",
     "text": [
      "Epoch 16/60 - Training: 100%|████████████████████████████████████████████████████████| 118/118 [00:43<00:00,  2.74it/s]\n",
      "Epoch 16/60 - Validation: 100%|████████████████████████████████████████████████████████| 14/14 [00:04<00:00,  2.93it/s]\n"
     ]
    },
    {
     "name": "stdout",
     "output_type": "stream",
     "text": [
      "Epoch 16/60 | Train Loss: 0.0005, Acc: 1.0000 | Val Loss: 0.0006, Acc: 1.0000\n"
     ]
    },
    {
     "name": "stderr",
     "output_type": "stream",
     "text": [
      "Epoch 17/60 - Training: 100%|████████████████████████████████████████████████████████| 118/118 [00:43<00:00,  2.71it/s]\n",
      "Epoch 17/60 - Validation: 100%|████████████████████████████████████████████████████████| 14/14 [00:04<00:00,  3.20it/s]\n"
     ]
    },
    {
     "name": "stdout",
     "output_type": "stream",
     "text": [
      "Epoch 17/60 | Train Loss: 0.0004, Acc: 1.0000 | Val Loss: 0.0028, Acc: 0.9976\n"
     ]
    },
    {
     "name": "stderr",
     "output_type": "stream",
     "text": [
      "Epoch 18/60 - Training: 100%|████████████████████████████████████████████████████████| 118/118 [00:43<00:00,  2.73it/s]\n",
      "Epoch 18/60 - Validation: 100%|████████████████████████████████████████████████████████| 14/14 [00:04<00:00,  3.00it/s]\n"
     ]
    },
    {
     "name": "stdout",
     "output_type": "stream",
     "text": [
      "Epoch 18/60 | Train Loss: 0.0007, Acc: 1.0000 | Val Loss: 0.0088, Acc: 0.9976\n"
     ]
    },
    {
     "name": "stderr",
     "output_type": "stream",
     "text": [
      "Epoch 19/60 - Training: 100%|████████████████████████████████████████████████████████| 118/118 [00:41<00:00,  2.82it/s]\n",
      "Epoch 19/60 - Validation: 100%|████████████████████████████████████████████████████████| 14/14 [00:04<00:00,  2.98it/s]\n"
     ]
    },
    {
     "name": "stdout",
     "output_type": "stream",
     "text": [
      "Epoch 19/60 | Train Loss: 0.0009, Acc: 1.0000 | Val Loss: 0.0051, Acc: 0.9976\n"
     ]
    },
    {
     "name": "stderr",
     "output_type": "stream",
     "text": [
      "Epoch 20/60 - Training: 100%|████████████████████████████████████████████████████████| 118/118 [00:42<00:00,  2.81it/s]\n",
      "Epoch 20/60 - Validation: 100%|████████████████████████████████████████████████████████| 14/14 [00:04<00:00,  3.18it/s]\n"
     ]
    },
    {
     "name": "stdout",
     "output_type": "stream",
     "text": [
      "Epoch 20/60 | Train Loss: 0.0004, Acc: 1.0000 | Val Loss: 0.0000, Acc: 1.0000\n"
     ]
    },
    {
     "name": "stderr",
     "output_type": "stream",
     "text": [
      "Epoch 21/60 - Training: 100%|████████████████████████████████████████████████████████| 118/118 [00:42<00:00,  2.80it/s]\n",
      "Epoch 21/60 - Validation: 100%|████████████████████████████████████████████████████████| 14/14 [00:04<00:00,  3.03it/s]\n"
     ]
    },
    {
     "name": "stdout",
     "output_type": "stream",
     "text": [
      "Epoch 21/60 | Train Loss: 0.0003, Acc: 1.0000 | Val Loss: 0.0002, Acc: 1.0000\n"
     ]
    },
    {
     "name": "stderr",
     "output_type": "stream",
     "text": [
      "Epoch 22/60 - Training: 100%|████████████████████████████████████████████████████████| 118/118 [00:42<00:00,  2.76it/s]\n",
      "Epoch 22/60 - Validation: 100%|████████████████████████████████████████████████████████| 14/14 [00:04<00:00,  2.96it/s]\n"
     ]
    },
    {
     "name": "stdout",
     "output_type": "stream",
     "text": [
      "Epoch 22/60 | Train Loss: 0.0005, Acc: 1.0000 | Val Loss: 0.0020, Acc: 0.9976\n"
     ]
    },
    {
     "name": "stderr",
     "output_type": "stream",
     "text": [
      "Epoch 23/60 - Training: 100%|████████████████████████████████████████████████████████| 118/118 [00:41<00:00,  2.82it/s]\n",
      "Epoch 23/60 - Validation: 100%|████████████████████████████████████████████████████████| 14/14 [00:04<00:00,  2.91it/s]\n"
     ]
    },
    {
     "name": "stdout",
     "output_type": "stream",
     "text": [
      "Epoch 23/60 | Train Loss: 0.0004, Acc: 1.0000 | Val Loss: 0.0002, Acc: 1.0000\n"
     ]
    },
    {
     "name": "stderr",
     "output_type": "stream",
     "text": [
      "Epoch 24/60 - Training: 100%|████████████████████████████████████████████████████████| 118/118 [01:30<00:00,  1.30it/s]\n",
      "Epoch 24/60 - Validation: 100%|████████████████████████████████████████████████████████| 14/14 [00:12<00:00,  1.12it/s]\n"
     ]
    },
    {
     "name": "stdout",
     "output_type": "stream",
     "text": [
      "Epoch 24/60 | Train Loss: 0.0003, Acc: 1.0000 | Val Loss: 0.0012, Acc: 1.0000\n"
     ]
    },
    {
     "name": "stderr",
     "output_type": "stream",
     "text": [
      "Epoch 25/60 - Training: 100%|████████████████████████████████████████████████████████| 118/118 [01:02<00:00,  1.89it/s]\n",
      "Epoch 25/60 - Validation: 100%|████████████████████████████████████████████████████████| 14/14 [00:04<00:00,  2.91it/s]\n"
     ]
    },
    {
     "name": "stdout",
     "output_type": "stream",
     "text": [
      "Epoch 25/60 | Train Loss: 0.0002, Acc: 1.0000 | Val Loss: 0.0005, Acc: 1.0000\n"
     ]
    },
    {
     "name": "stderr",
     "output_type": "stream",
     "text": [
      "Epoch 26/60 - Training: 100%|████████████████████████████████████████████████████████| 118/118 [00:42<00:00,  2.75it/s]\n",
      "Epoch 26/60 - Validation: 100%|████████████████████████████████████████████████████████| 14/14 [00:04<00:00,  2.98it/s]\n"
     ]
    },
    {
     "name": "stdout",
     "output_type": "stream",
     "text": [
      "Epoch 26/60 | Train Loss: 0.0002, Acc: 1.0000 | Val Loss: 0.0001, Acc: 1.0000\n"
     ]
    },
    {
     "name": "stderr",
     "output_type": "stream",
     "text": [
      "Epoch 27/60 - Training: 100%|████████████████████████████████████████████████████████| 118/118 [00:42<00:00,  2.77it/s]\n",
      "Epoch 27/60 - Validation: 100%|████████████████████████████████████████████████████████| 14/14 [00:04<00:00,  2.85it/s]\n"
     ]
    },
    {
     "name": "stdout",
     "output_type": "stream",
     "text": [
      "Epoch 27/60 | Train Loss: 0.0001, Acc: 1.0000 | Val Loss: 0.0004, Acc: 1.0000\n"
     ]
    },
    {
     "name": "stderr",
     "output_type": "stream",
     "text": [
      "Epoch 28/60 - Training: 100%|████████████████████████████████████████████████████████| 118/118 [00:42<00:00,  2.77it/s]\n",
      "Epoch 28/60 - Validation: 100%|████████████████████████████████████████████████████████| 14/14 [00:04<00:00,  2.91it/s]\n"
     ]
    },
    {
     "name": "stdout",
     "output_type": "stream",
     "text": [
      "Epoch 28/60 | Train Loss: 0.0035, Acc: 0.9989 | Val Loss: 0.0115, Acc: 0.9976\n"
     ]
    },
    {
     "name": "stderr",
     "output_type": "stream",
     "text": [
      "Epoch 29/60 - Training: 100%|████████████████████████████████████████████████████████| 118/118 [00:42<00:00,  2.75it/s]\n",
      "Epoch 29/60 - Validation: 100%|████████████████████████████████████████████████████████| 14/14 [00:04<00:00,  3.00it/s]\n"
     ]
    },
    {
     "name": "stdout",
     "output_type": "stream",
     "text": [
      "Epoch 29/60 | Train Loss: 0.0009, Acc: 1.0000 | Val Loss: 0.0002, Acc: 1.0000\n"
     ]
    },
    {
     "name": "stderr",
     "output_type": "stream",
     "text": [
      "Epoch 30/60 - Training: 100%|████████████████████████████████████████████████████████| 118/118 [00:42<00:00,  2.76it/s]\n",
      "Epoch 30/60 - Validation: 100%|████████████████████████████████████████████████████████| 14/14 [00:04<00:00,  3.03it/s]\n"
     ]
    },
    {
     "name": "stdout",
     "output_type": "stream",
     "text": [
      "Epoch 30/60 | Train Loss: 0.0004, Acc: 1.0000 | Val Loss: 0.0038, Acc: 0.9976\n"
     ]
    },
    {
     "name": "stderr",
     "output_type": "stream",
     "text": [
      "Epoch 31/60 - Training: 100%|████████████████████████████████████████████████████████| 118/118 [00:42<00:00,  2.80it/s]\n",
      "Epoch 31/60 - Validation: 100%|████████████████████████████████████████████████████████| 14/14 [00:04<00:00,  3.02it/s]\n"
     ]
    },
    {
     "name": "stdout",
     "output_type": "stream",
     "text": [
      "Epoch 31/60 | Train Loss: 0.0003, Acc: 1.0000 | Val Loss: 0.0002, Acc: 1.0000\n"
     ]
    },
    {
     "name": "stderr",
     "output_type": "stream",
     "text": [
      "Epoch 32/60 - Training: 100%|████████████████████████████████████████████████████████| 118/118 [00:41<00:00,  2.81it/s]\n",
      "Epoch 32/60 - Validation: 100%|████████████████████████████████████████████████████████| 14/14 [00:04<00:00,  3.07it/s]\n"
     ]
    },
    {
     "name": "stdout",
     "output_type": "stream",
     "text": [
      "Epoch 32/60 | Train Loss: 0.0005, Acc: 0.9997 | Val Loss: 0.0006, Acc: 1.0000\n"
     ]
    },
    {
     "name": "stderr",
     "output_type": "stream",
     "text": [
      "Epoch 33/60 - Training: 100%|████████████████████████████████████████████████████████| 118/118 [00:46<00:00,  2.55it/s]\n",
      "Epoch 33/60 - Validation: 100%|████████████████████████████████████████████████████████| 14/14 [00:04<00:00,  2.87it/s]\n"
     ]
    },
    {
     "name": "stdout",
     "output_type": "stream",
     "text": [
      "Epoch 33/60 | Train Loss: 0.0005, Acc: 1.0000 | Val Loss: 0.0001, Acc: 1.0000\n"
     ]
    },
    {
     "name": "stderr",
     "output_type": "stream",
     "text": [
      "Epoch 34/60 - Training: 100%|████████████████████████████████████████████████████████| 118/118 [00:45<00:00,  2.57it/s]\n",
      "Epoch 34/60 - Validation: 100%|████████████████████████████████████████████████████████| 14/14 [00:05<00:00,  2.77it/s]\n"
     ]
    },
    {
     "name": "stdout",
     "output_type": "stream",
     "text": [
      "Epoch 34/60 | Train Loss: 0.0013, Acc: 0.9995 | Val Loss: 0.0077, Acc: 0.9952\n"
     ]
    },
    {
     "name": "stderr",
     "output_type": "stream",
     "text": [
      "Epoch 35/60 - Training: 100%|████████████████████████████████████████████████████████| 118/118 [00:46<00:00,  2.54it/s]\n",
      "Epoch 35/60 - Validation: 100%|████████████████████████████████████████████████████████| 14/14 [00:04<00:00,  2.84it/s]\n"
     ]
    },
    {
     "name": "stdout",
     "output_type": "stream",
     "text": [
      "Epoch 35/60 | Train Loss: 0.0026, Acc: 0.9989 | Val Loss: 0.0009, Acc: 1.0000\n"
     ]
    },
    {
     "name": "stderr",
     "output_type": "stream",
     "text": [
      "Epoch 36/60 - Training: 100%|████████████████████████████████████████████████████████| 118/118 [00:46<00:00,  2.56it/s]\n",
      "Epoch 36/60 - Validation: 100%|████████████████████████████████████████████████████████| 14/14 [00:05<00:00,  2.76it/s]\n"
     ]
    },
    {
     "name": "stdout",
     "output_type": "stream",
     "text": [
      "Epoch 36/60 | Train Loss: 0.0032, Acc: 0.9995 | Val Loss: 0.0002, Acc: 1.0000\n"
     ]
    },
    {
     "name": "stderr",
     "output_type": "stream",
     "text": [
      "Epoch 37/60 - Training: 100%|████████████████████████████████████████████████████████| 118/118 [00:45<00:00,  2.58it/s]\n",
      "Epoch 37/60 - Validation: 100%|████████████████████████████████████████████████████████| 14/14 [00:05<00:00,  2.78it/s]\n"
     ]
    },
    {
     "name": "stdout",
     "output_type": "stream",
     "text": [
      "Epoch 37/60 | Train Loss: 0.0004, Acc: 1.0000 | Val Loss: 0.0003, Acc: 1.0000\n"
     ]
    },
    {
     "name": "stderr",
     "output_type": "stream",
     "text": [
      "Epoch 38/60 - Training: 100%|████████████████████████████████████████████████████████| 118/118 [00:45<00:00,  2.58it/s]\n",
      "Epoch 38/60 - Validation: 100%|████████████████████████████████████████████████████████| 14/14 [00:05<00:00,  2.76it/s]\n"
     ]
    },
    {
     "name": "stdout",
     "output_type": "stream",
     "text": [
      "Epoch 38/60 | Train Loss: 0.0018, Acc: 0.9992 | Val Loss: 0.0001, Acc: 1.0000\n"
     ]
    },
    {
     "name": "stderr",
     "output_type": "stream",
     "text": [
      "Epoch 39/60 - Training: 100%|████████████████████████████████████████████████████████| 118/118 [00:46<00:00,  2.56it/s]\n",
      "Epoch 39/60 - Validation: 100%|████████████████████████████████████████████████████████| 14/14 [00:05<00:00,  2.73it/s]\n"
     ]
    },
    {
     "name": "stdout",
     "output_type": "stream",
     "text": [
      "Epoch 39/60 | Train Loss: 0.0029, Acc: 0.9989 | Val Loss: 0.0024, Acc: 1.0000\n"
     ]
    },
    {
     "name": "stderr",
     "output_type": "stream",
     "text": [
      "Epoch 40/60 - Training: 100%|████████████████████████████████████████████████████████| 118/118 [00:45<00:00,  2.58it/s]\n",
      "Epoch 40/60 - Validation: 100%|████████████████████████████████████████████████████████| 14/14 [00:05<00:00,  2.79it/s]\n"
     ]
    },
    {
     "name": "stdout",
     "output_type": "stream",
     "text": [
      "Epoch 40/60 | Train Loss: 0.0007, Acc: 0.9997 | Val Loss: 0.0020, Acc: 0.9976\n"
     ]
    },
    {
     "name": "stderr",
     "output_type": "stream",
     "text": [
      "Epoch 41/60 - Training: 100%|████████████████████████████████████████████████████████| 118/118 [00:45<00:00,  2.57it/s]\n",
      "Epoch 41/60 - Validation: 100%|████████████████████████████████████████████████████████| 14/14 [00:04<00:00,  2.84it/s]\n"
     ]
    },
    {
     "name": "stdout",
     "output_type": "stream",
     "text": [
      "Epoch 41/60 | Train Loss: 0.0003, Acc: 1.0000 | Val Loss: 0.0003, Acc: 1.0000\n"
     ]
    },
    {
     "name": "stderr",
     "output_type": "stream",
     "text": [
      "Epoch 42/60 - Training: 100%|████████████████████████████████████████████████████████| 118/118 [00:45<00:00,  2.60it/s]\n",
      "Epoch 42/60 - Validation: 100%|████████████████████████████████████████████████████████| 14/14 [00:04<00:00,  2.89it/s]\n"
     ]
    },
    {
     "name": "stdout",
     "output_type": "stream",
     "text": [
      "Epoch 42/60 | Train Loss: 0.0005, Acc: 1.0000 | Val Loss: 0.0037, Acc: 0.9976\n"
     ]
    },
    {
     "name": "stderr",
     "output_type": "stream",
     "text": [
      "Epoch 43/60 - Training: 100%|████████████████████████████████████████████████████████| 118/118 [00:46<00:00,  2.56it/s]\n",
      "Epoch 43/60 - Validation: 100%|████████████████████████████████████████████████████████| 14/14 [00:05<00:00,  2.79it/s]\n"
     ]
    },
    {
     "name": "stdout",
     "output_type": "stream",
     "text": [
      "Epoch 43/60 | Train Loss: 0.0001, Acc: 1.0000 | Val Loss: 0.0001, Acc: 1.0000\n"
     ]
    },
    {
     "name": "stderr",
     "output_type": "stream",
     "text": [
      "Epoch 44/60 - Training: 100%|████████████████████████████████████████████████████████| 118/118 [00:45<00:00,  2.59it/s]\n",
      "Epoch 44/60 - Validation: 100%|████████████████████████████████████████████████████████| 14/14 [00:05<00:00,  2.78it/s]\n"
     ]
    },
    {
     "name": "stdout",
     "output_type": "stream",
     "text": [
      "Epoch 44/60 | Train Loss: 0.0001, Acc: 1.0000 | Val Loss: 0.0006, Acc: 1.0000\n"
     ]
    },
    {
     "name": "stderr",
     "output_type": "stream",
     "text": [
      "Epoch 45/60 - Training: 100%|████████████████████████████████████████████████████████| 118/118 [00:47<00:00,  2.50it/s]\n",
      "Epoch 45/60 - Validation: 100%|████████████████████████████████████████████████████████| 14/14 [00:05<00:00,  2.67it/s]\n"
     ]
    },
    {
     "name": "stdout",
     "output_type": "stream",
     "text": [
      "Epoch 45/60 | Train Loss: 0.0001, Acc: 1.0000 | Val Loss: 0.0024, Acc: 0.9976\n"
     ]
    },
    {
     "name": "stderr",
     "output_type": "stream",
     "text": [
      "Epoch 46/60 - Training: 100%|████████████████████████████████████████████████████████| 118/118 [00:43<00:00,  2.71it/s]\n",
      "Epoch 46/60 - Validation: 100%|████████████████████████████████████████████████████████| 14/14 [00:04<00:00,  3.11it/s]\n"
     ]
    },
    {
     "name": "stdout",
     "output_type": "stream",
     "text": [
      "Epoch 46/60 | Train Loss: 0.0007, Acc: 0.9997 | Val Loss: 0.0027, Acc: 0.9976\n"
     ]
    },
    {
     "name": "stderr",
     "output_type": "stream",
     "text": [
      "Epoch 47/60 - Training: 100%|████████████████████████████████████████████████████████| 118/118 [00:41<00:00,  2.83it/s]\n",
      "Epoch 47/60 - Validation: 100%|████████████████████████████████████████████████████████| 14/14 [00:04<00:00,  3.06it/s]\n"
     ]
    },
    {
     "name": "stdout",
     "output_type": "stream",
     "text": [
      "Epoch 47/60 | Train Loss: 0.0002, Acc: 1.0000 | Val Loss: 0.0001, Acc: 1.0000\n"
     ]
    },
    {
     "name": "stderr",
     "output_type": "stream",
     "text": [
      "Epoch 48/60 - Training: 100%|████████████████████████████████████████████████████████| 118/118 [00:44<00:00,  2.63it/s]\n",
      "Epoch 48/60 - Validation: 100%|████████████████████████████████████████████████████████| 14/14 [00:05<00:00,  2.77it/s]\n"
     ]
    },
    {
     "name": "stdout",
     "output_type": "stream",
     "text": [
      "Epoch 48/60 | Train Loss: 0.0001, Acc: 1.0000 | Val Loss: 0.0001, Acc: 1.0000\n"
     ]
    },
    {
     "name": "stderr",
     "output_type": "stream",
     "text": [
      "Epoch 49/60 - Training: 100%|████████████████████████████████████████████████████████| 118/118 [00:45<00:00,  2.59it/s]\n",
      "Epoch 49/60 - Validation: 100%|████████████████████████████████████████████████████████| 14/14 [00:05<00:00,  2.77it/s]\n"
     ]
    },
    {
     "name": "stdout",
     "output_type": "stream",
     "text": [
      "Epoch 49/60 | Train Loss: 0.0001, Acc: 1.0000 | Val Loss: 0.0001, Acc: 1.0000\n"
     ]
    },
    {
     "name": "stderr",
     "output_type": "stream",
     "text": [
      "Epoch 50/60 - Training: 100%|████████████████████████████████████████████████████████| 118/118 [00:45<00:00,  2.58it/s]\n",
      "Epoch 50/60 - Validation: 100%|████████████████████████████████████████████████████████| 14/14 [00:05<00:00,  2.79it/s]\n"
     ]
    },
    {
     "name": "stdout",
     "output_type": "stream",
     "text": [
      "Epoch 50/60 | Train Loss: 0.0000, Acc: 1.0000 | Val Loss: 0.0000, Acc: 1.0000\n"
     ]
    },
    {
     "name": "stderr",
     "output_type": "stream",
     "text": [
      "Epoch 51/60 - Training: 100%|████████████████████████████████████████████████████████| 118/118 [00:45<00:00,  2.58it/s]\n",
      "Epoch 51/60 - Validation: 100%|████████████████████████████████████████████████████████| 14/14 [00:05<00:00,  2.75it/s]\n"
     ]
    },
    {
     "name": "stdout",
     "output_type": "stream",
     "text": [
      "Epoch 51/60 | Train Loss: 0.0001, Acc: 1.0000 | Val Loss: 0.0023, Acc: 0.9976\n"
     ]
    },
    {
     "name": "stderr",
     "output_type": "stream",
     "text": [
      "Epoch 52/60 - Training: 100%|████████████████████████████████████████████████████████| 118/118 [00:46<00:00,  2.55it/s]\n",
      "Epoch 52/60 - Validation: 100%|████████████████████████████████████████████████████████| 14/14 [00:04<00:00,  2.86it/s]\n"
     ]
    },
    {
     "name": "stdout",
     "output_type": "stream",
     "text": [
      "Epoch 52/60 | Train Loss: 0.0000, Acc: 1.0000 | Val Loss: 0.0003, Acc: 1.0000\n"
     ]
    },
    {
     "name": "stderr",
     "output_type": "stream",
     "text": [
      "Epoch 53/60 - Training: 100%|████████████████████████████████████████████████████████| 118/118 [00:45<00:00,  2.58it/s]\n",
      "Epoch 53/60 - Validation: 100%|████████████████████████████████████████████████████████| 14/14 [00:05<00:00,  2.79it/s]\n"
     ]
    },
    {
     "name": "stdout",
     "output_type": "stream",
     "text": [
      "Epoch 53/60 | Train Loss: 0.0000, Acc: 1.0000 | Val Loss: 0.0001, Acc: 1.0000\n"
     ]
    },
    {
     "name": "stderr",
     "output_type": "stream",
     "text": [
      "Epoch 54/60 - Training: 100%|████████████████████████████████████████████████████████| 118/118 [00:46<00:00,  2.56it/s]\n",
      "Epoch 54/60 - Validation: 100%|████████████████████████████████████████████████████████| 14/14 [00:05<00:00,  2.70it/s]\n"
     ]
    },
    {
     "name": "stdout",
     "output_type": "stream",
     "text": [
      "Epoch 54/60 | Train Loss: 0.0000, Acc: 1.0000 | Val Loss: 0.0000, Acc: 1.0000\n"
     ]
    },
    {
     "name": "stderr",
     "output_type": "stream",
     "text": [
      "Epoch 55/60 - Training: 100%|████████████████████████████████████████████████████████| 118/118 [00:46<00:00,  2.56it/s]\n",
      "Epoch 55/60 - Validation: 100%|████████████████████████████████████████████████████████| 14/14 [00:05<00:00,  2.75it/s]\n"
     ]
    },
    {
     "name": "stdout",
     "output_type": "stream",
     "text": [
      "Epoch 55/60 | Train Loss: 0.0001, Acc: 1.0000 | Val Loss: 0.0001, Acc: 1.0000\n"
     ]
    },
    {
     "name": "stderr",
     "output_type": "stream",
     "text": [
      "Epoch 56/60 - Training: 100%|████████████████████████████████████████████████████████| 118/118 [00:46<00:00,  2.55it/s]\n",
      "Epoch 56/60 - Validation: 100%|████████████████████████████████████████████████████████| 14/14 [00:05<00:00,  2.79it/s]\n"
     ]
    },
    {
     "name": "stdout",
     "output_type": "stream",
     "text": [
      "Epoch 56/60 | Train Loss: 0.0000, Acc: 1.0000 | Val Loss: 0.0050, Acc: 0.9976\n"
     ]
    },
    {
     "name": "stderr",
     "output_type": "stream",
     "text": [
      "Epoch 57/60 - Training: 100%|████████████████████████████████████████████████████████| 118/118 [00:46<00:00,  2.54it/s]\n",
      "Epoch 57/60 - Validation: 100%|████████████████████████████████████████████████████████| 14/14 [00:05<00:00,  2.74it/s]\n"
     ]
    },
    {
     "name": "stdout",
     "output_type": "stream",
     "text": [
      "Epoch 57/60 | Train Loss: 0.0001, Acc: 1.0000 | Val Loss: 0.0023, Acc: 0.9976\n"
     ]
    },
    {
     "name": "stderr",
     "output_type": "stream",
     "text": [
      "Epoch 58/60 - Training: 100%|████████████████████████████████████████████████████████| 118/118 [00:42<00:00,  2.81it/s]\n",
      "Epoch 58/60 - Validation: 100%|████████████████████████████████████████████████████████| 14/14 [00:04<00:00,  3.11it/s]\n"
     ]
    },
    {
     "name": "stdout",
     "output_type": "stream",
     "text": [
      "Epoch 58/60 | Train Loss: 0.0009, Acc: 0.9995 | Val Loss: 0.0006, Acc: 1.0000\n"
     ]
    },
    {
     "name": "stderr",
     "output_type": "stream",
     "text": [
      "Epoch 59/60 - Training: 100%|████████████████████████████████████████████████████████| 118/118 [00:41<00:00,  2.85it/s]\n",
      "Epoch 59/60 - Validation: 100%|████████████████████████████████████████████████████████| 14/14 [00:04<00:00,  3.02it/s]\n"
     ]
    },
    {
     "name": "stdout",
     "output_type": "stream",
     "text": [
      "Epoch 59/60 | Train Loss: 0.0043, Acc: 0.9992 | Val Loss: 0.0006, Acc: 1.0000\n"
     ]
    },
    {
     "name": "stderr",
     "output_type": "stream",
     "text": [
      "Epoch 60/60 - Training: 100%|████████████████████████████████████████████████████████| 118/118 [00:42<00:00,  2.78it/s]\n",
      "Epoch 60/60 - Validation: 100%|████████████████████████████████████████████████████████| 14/14 [00:05<00:00,  2.76it/s]\n"
     ]
    },
    {
     "name": "stdout",
     "output_type": "stream",
     "text": [
      "Epoch 60/60 | Train Loss: 0.0011, Acc: 0.9995 | Val Loss: 0.0012, Acc: 1.0000\n",
      "Model saved.\n"
     ]
    },
    {
     "data": {
      "image/png": "[encoded data removed]",
      "text/plain": [
       "<Figure size 1000x600 with 2 Axes>"
      ]
     },
     "metadata": {},
     "output_type": "display_data"
    },
    {
     "name": "stderr",
     "output_type": "stream",
     "text": [
      "Inference: 100%|█████████████████████████████████████████████████████████████████████| 999/999 [01:13<00:00, 13.55it/s]\n"
     ]
    },
    {
     "name": "stdout",
     "output_type": "stream",
     "text": [
      "Saved predictions to validation_results.csv\n"
     ]
    },
    {
     "data": {
      "image/png": "[encoded data removed]",
      "text/plain": [
       "<Figure size 640x480 with 2 Axes>"
      ]
     },
     "metadata": {},
     "output_type": "display_data"
    }
   ],
   "source": [
    "if __name__ == \"__main__\":\n",
    "    train_model()\n",
    "    infer()\n"
   ]
  }
 ],
 "metadata": {
  "kernelspec": {
   "display_name": "Python 3 (ipykernel)",
   "language": "python",
   "name": "python3"
  },
  "language_info": {
   "codemirror_mode": {
    "name": "ipython",
    "version": 3
   },
   "file_extension": ".py",
   "mimetype": "text/x-python",
   "name": "python",
   "nbconvert_exporter": "python",
   "pygments_lexer": "ipython3",
   "version": "3.10.7"
  }
 },
 "nbformat": 4,
 "nbformat_minor": 5
}
