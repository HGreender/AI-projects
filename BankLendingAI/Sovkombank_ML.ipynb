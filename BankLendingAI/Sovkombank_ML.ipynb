{
 "cells": [
  {
   "cell_type": "code",
   "execution_count": null,
   "metadata": {
    "id": "AY6_OvrODhbk"
   },
   "outputs": [],
   "source": [
    "# Перед проверкой загрузите файл \"result_set.xlsx\" в директорию\n",
    "# Далее можно всё запускать и проверять"
   ]
  },
  {
   "cell_type": "code",
   "execution_count": 4,
   "metadata": {
    "colab": {
     "base_uri": "https://localhost:8080/"
    },
    "executionInfo": {
     "elapsed": 3,
     "status": "ok",
     "timestamp": 1726040571841,
     "user": {
      "displayName": "Greender",
      "userId": "02761766365900387031"
     },
     "user_tz": -180
    },
    "id": "bnBTNhOv6N2G",
    "outputId": "75151e2a-cab8-41c6-eee8-50ac0f3c00bf"
   },
   "outputs": [
    {
     "name": "stdout",
     "output_type": "stream",
     "text": [
      "2.6.0+cu126\n"
     ]
    }
   ],
   "source": [
    "import torch\n",
    "print(torch.__version__)\n",
    "import numpy as np\n",
    "import random\n",
    "import matplotlib.pyplot as plt\n",
    "import torch.nn as nn\n",
    "import torch.nn.functional as F\n",
    "from torch.utils.data import Dataset, TensorDataset, DataLoader\n",
    "from torch.utils.data import random_split\n",
    "from sklearn.model_selection import train_test_split\n",
    "from sklearn.preprocessing import StandardScaler\n",
    "from  sklearn import  datasets\n",
    "from sklearn.datasets import load_iris\n",
    "from sklearn.preprocessing import StandardScaler\n",
    "import pandas as pd\n",
    "from sklearn.preprocessing import LabelEncoder\n",
    "from torch.autograd import Variable\n",
    "%matplotlib inline"
   ]
  },
  {
   "cell_type": "code",
   "execution_count": 5,
   "metadata": {
    "colab": {
     "base_uri": "https://localhost:8080/"
    },
    "executionInfo": {
     "elapsed": 3233,
     "status": "ok",
     "timestamp": 1726040575072,
     "user": {
      "displayName": "Greender",
      "userId": "02761766365900387031"
     },
     "user_tz": -180
    },
    "id": "-UNmDdMl6V52",
    "outputId": "6059a3cf-ec26-49d7-f186-52c6de79631c"
   },
   "outputs": [
    {
     "name": "stdout",
     "output_type": "stream",
     "text": [
      "<class 'pandas.core.frame.DataFrame'>\n",
      "RangeIndex: 5000 entries, 0 to 4999\n",
      "Data columns (total 19 columns):\n",
      " #   Column  Non-Null Count  Dtype  \n",
      "---  ------  --------------  -----  \n",
      " 0   Ft0     5000 non-null   float64\n",
      " 1   Ft1     5000 non-null   float64\n",
      " 2   Ft2     5000 non-null   float64\n",
      " 3   Ft3     5000 non-null   float64\n",
      " 4   Ft4     5000 non-null   float64\n",
      " 5   Ft5     5000 non-null   float64\n",
      " 6   Ft6     5000 non-null   float64\n",
      " 7   Ft7     5000 non-null   int64  \n",
      " 8   Ft8     5000 non-null   object \n",
      " 9   Ft9     5000 non-null   object \n",
      " 10  Ft10    4936 non-null   float64\n",
      " 11  Ft11    4950 non-null   object \n",
      " 12  Ft12    5000 non-null   int64  \n",
      " 13  Ft13    5000 non-null   int64  \n",
      " 14  Ft14    5000 non-null   int64  \n",
      " 15  Ft15    4183 non-null   object \n",
      " 16  Ft16    5000 non-null   object \n",
      " 17  Ft17    5000 non-null   int64  \n",
      " 18  mark    5000 non-null   int64  \n",
      "dtypes: float64(8), int64(6), object(5)\n",
      "memory usage: 742.3+ KB\n"
     ]
    }
   ],
   "source": [
    "df = pd.read_excel('result_set.xlsx')\n",
    "df.columns = df.columns.str.replace(' ', '')\n",
    "df.info()"
   ]
  },
  {
   "cell_type": "code",
   "execution_count": 6,
   "metadata": {
    "colab": {
     "base_uri": "https://localhost:8080/"
    },
    "executionInfo": {
     "elapsed": 3,
     "status": "ok",
     "timestamp": 1726040575072,
     "user": {
      "displayName": "Greender",
      "userId": "02761766365900387031"
     },
     "user_tz": -180
    },
    "id": "JQVOWSt9-lO-",
    "outputId": "bc3b3a6c-1225-4854-aed7-e7e834b41ab3"
   },
   "outputs": [
    {
     "name": "stdout",
     "output_type": "stream",
     "text": [
      "<class 'pandas.core.frame.DataFrame'>\n",
      "Int64Index: 4089 entries, 1 to 4999\n",
      "Data columns (total 19 columns):\n",
      " #   Column  Non-Null Count  Dtype  \n",
      "---  ------  --------------  -----  \n",
      " 0   Ft0     4089 non-null   float64\n",
      " 1   Ft1     4089 non-null   float64\n",
      " 2   Ft2     4089 non-null   float64\n",
      " 3   Ft3     4089 non-null   float64\n",
      " 4   Ft4     4089 non-null   float64\n",
      " 5   Ft5     4089 non-null   float64\n",
      " 6   Ft6     4089 non-null   float64\n",
      " 7   Ft7     4089 non-null   int64  \n",
      " 8   Ft8     4089 non-null   object \n",
      " 9   Ft9     4089 non-null   object \n",
      " 10  Ft10    4089 non-null   float64\n",
      " 11  Ft11    4089 non-null   object \n",
      " 12  Ft12    4089 non-null   int64  \n",
      " 13  Ft13    4089 non-null   int64  \n",
      " 14  Ft14    4089 non-null   int64  \n",
      " 15  Ft15    4089 non-null   object \n",
      " 16  Ft16    4089 non-null   object \n",
      " 17  Ft17    4089 non-null   int64  \n",
      " 18  mark    4089 non-null   int64  \n",
      "dtypes: float64(8), int64(6), object(5)\n",
      "memory usage: 638.9+ KB\n"
     ]
    }
   ],
   "source": [
    "# По-хорошему Null и NaN-значения бы заменить или проинтерполировать,\n",
    "# но ввиду ограничений по времени было принято решения удалить данные\n",
    "# При решении же реальных задач может повлечь потерю важной информации\n",
    "df = df.dropna()\n",
    "df.info()"
   ]
  },
  {
   "cell_type": "code",
   "execution_count": 7,
   "metadata": {
    "colab": {
     "base_uri": "https://localhost:8080/",
     "height": 206
    },
    "executionInfo": {
     "elapsed": 949,
     "status": "ok",
     "timestamp": 1726040576019,
     "user": {
      "displayName": "Greender",
      "userId": "02761766365900387031"
     },
     "user_tz": -180
    },
    "id": "XPe4xXR7FJJg",
    "outputId": "03adaccd-7be2-42a1-8614-28999820e0e8"
   },
   "outputs": [
    {
     "data": {
      "text/html": [
       "<div>\n",
       "<style scoped>\n",
       "    .dataframe tbody tr th:only-of-type {\n",
       "        vertical-align: middle;\n",
       "    }\n",
       "\n",
       "    .dataframe tbody tr th {\n",
       "        vertical-align: top;\n",
       "    }\n",
       "\n",
       "    .dataframe thead th {\n",
       "        text-align: right;\n",
       "    }\n",
       "</style>\n",
       "<table border=\"1\" class=\"dataframe\">\n",
       "  <thead>\n",
       "    <tr style=\"text-align: right;\">\n",
       "      <th></th>\n",
       "      <th>Ft0</th>\n",
       "      <th>Ft1</th>\n",
       "      <th>Ft2</th>\n",
       "      <th>Ft3</th>\n",
       "      <th>Ft4</th>\n",
       "      <th>Ft5</th>\n",
       "      <th>Ft6</th>\n",
       "      <th>Ft7</th>\n",
       "      <th>Ft8</th>\n",
       "      <th>Ft9</th>\n",
       "      <th>Ft10</th>\n",
       "      <th>Ft11</th>\n",
       "      <th>Ft12</th>\n",
       "      <th>Ft13</th>\n",
       "      <th>Ft14</th>\n",
       "      <th>Ft15</th>\n",
       "      <th>Ft16</th>\n",
       "      <th>Ft17</th>\n",
       "      <th>mark</th>\n",
       "    </tr>\n",
       "  </thead>\n",
       "  <tbody>\n",
       "    <tr>\n",
       "      <th>1</th>\n",
       "      <td>1.274494</td>\n",
       "      <td>0.814288</td>\n",
       "      <td>0.727210</td>\n",
       "      <td>3.606359</td>\n",
       "      <td>1.493780</td>\n",
       "      <td>7.810750</td>\n",
       "      <td>20.314335</td>\n",
       "      <td>24</td>\n",
       "      <td>0</td>\n",
       "      <td>0</td>\n",
       "      <td>846.0</td>\n",
       "      <td>0</td>\n",
       "      <td>3</td>\n",
       "      <td>1</td>\n",
       "      <td>1</td>\n",
       "      <td>2</td>\n",
       "      <td>1</td>\n",
       "      <td>1</td>\n",
       "      <td>0</td>\n",
       "    </tr>\n",
       "    <tr>\n",
       "      <th>2</th>\n",
       "      <td>0.569931</td>\n",
       "      <td>1.607170</td>\n",
       "      <td>0.479581</td>\n",
       "      <td>3.521474</td>\n",
       "      <td>1.663726</td>\n",
       "      <td>2.297903</td>\n",
       "      <td>12.839282</td>\n",
       "      <td>67</td>\n",
       "      <td>1</td>\n",
       "      <td>0</td>\n",
       "      <td>782.0</td>\n",
       "      <td>0</td>\n",
       "      <td>0</td>\n",
       "      <td>0</td>\n",
       "      <td>0</td>\n",
       "      <td>1</td>\n",
       "      <td>4</td>\n",
       "      <td>1</td>\n",
       "      <td>0</td>\n",
       "    </tr>\n",
       "    <tr>\n",
       "      <th>3</th>\n",
       "      <td>0.547560</td>\n",
       "      <td>1.724393</td>\n",
       "      <td>0.682358</td>\n",
       "      <td>1.809472</td>\n",
       "      <td>10.149721</td>\n",
       "      <td>2.999319</td>\n",
       "      <td>49.108530</td>\n",
       "      <td>42</td>\n",
       "      <td>1</td>\n",
       "      <td>2</td>\n",
       "      <td>132.0</td>\n",
       "      <td>0</td>\n",
       "      <td>3</td>\n",
       "      <td>3</td>\n",
       "      <td>0</td>\n",
       "      <td>2</td>\n",
       "      <td>1</td>\n",
       "      <td>0</td>\n",
       "      <td>0</td>\n",
       "    </tr>\n",
       "    <tr>\n",
       "      <th>6</th>\n",
       "      <td>0.767030</td>\n",
       "      <td>1.319940</td>\n",
       "      <td>1.590671</td>\n",
       "      <td>0.858546</td>\n",
       "      <td>1.654798</td>\n",
       "      <td>2.009758</td>\n",
       "      <td>13.605616</td>\n",
       "      <td>25</td>\n",
       "      <td>1</td>\n",
       "      <td>1</td>\n",
       "      <td>305.0</td>\n",
       "      <td>1</td>\n",
       "      <td>3</td>\n",
       "      <td>3</td>\n",
       "      <td>0</td>\n",
       "      <td>3</td>\n",
       "      <td>1</td>\n",
       "      <td>0</td>\n",
       "      <td>0</td>\n",
       "    </tr>\n",
       "    <tr>\n",
       "      <th>7</th>\n",
       "      <td>1.272277</td>\n",
       "      <td>1.991726</td>\n",
       "      <td>1.026694</td>\n",
       "      <td>0.338062</td>\n",
       "      <td>0.854855</td>\n",
       "      <td>0.662405</td>\n",
       "      <td>1.329156</td>\n",
       "      <td>64</td>\n",
       "      <td>1</td>\n",
       "      <td>0</td>\n",
       "      <td>619.0</td>\n",
       "      <td>1</td>\n",
       "      <td>0</td>\n",
       "      <td>0</td>\n",
       "      <td>0</td>\n",
       "      <td>1</td>\n",
       "      <td>0</td>\n",
       "      <td>1</td>\n",
       "      <td>0</td>\n",
       "    </tr>\n",
       "  </tbody>\n",
       "</table>\n",
       "</div>"
      ],
      "text/plain": [
       "        Ft0       Ft1       Ft2       Ft3        Ft4       Ft5        Ft6  \\\n",
       "1  1.274494  0.814288  0.727210  3.606359   1.493780  7.810750  20.314335   \n",
       "2  0.569931  1.607170  0.479581  3.521474   1.663726  2.297903  12.839282   \n",
       "3  0.547560  1.724393  0.682358  1.809472  10.149721  2.999319  49.108530   \n",
       "6  0.767030  1.319940  1.590671  0.858546   1.654798  2.009758  13.605616   \n",
       "7  1.272277  1.991726  1.026694  0.338062   0.854855  0.662405   1.329156   \n",
       "\n",
       "   Ft7  Ft8  Ft9   Ft10  Ft11  Ft12  Ft13  Ft14  Ft15  Ft16  Ft17  mark  \n",
       "1   24    0    0  846.0     0     3     1     1     2     1     1     0  \n",
       "2   67    1    0  782.0     0     0     0     0     1     4     1     0  \n",
       "3   42    1    2  132.0     0     3     3     0     2     1     0     0  \n",
       "6   25    1    1  305.0     1     3     3     0     3     1     0     0  \n",
       "7   64    1    0  619.0     1     0     0     0     1     0     1     0  "
      ]
     },
     "execution_count": 7,
     "metadata": {},
     "output_type": "execute_result"
    }
   ],
   "source": [
    "# По-хорошему, использовать OneHotEncoding,\n",
    "# но в целях экономии времени будем использовать более \"вредный\" метод\n",
    "\n",
    "labelencoder8 = LabelEncoder()\n",
    "labelencoder9 = LabelEncoder()\n",
    "labelencoder11 = LabelEncoder()\n",
    "labelencoder15 = LabelEncoder()\n",
    "labelencoder16 = LabelEncoder()\n",
    "\n",
    "df['Ft8'] = labelencoder8.fit_transform(df['Ft8'].values)\n",
    "df['Ft9'] = labelencoder9.fit_transform(df['Ft9'].values)\n",
    "df['Ft11'] = labelencoder11.fit_transform(df['Ft11'].values)\n",
    "df['Ft15'] = labelencoder15.fit_transform(df['Ft15'].values)\n",
    "df['Ft16'] = labelencoder16.fit_transform(df['Ft16'].values)\n",
    "\n",
    "df.head()"
   ]
  },
  {
   "cell_type": "code",
   "execution_count": null,
   "metadata": {
    "colab": {
     "base_uri": "https://localhost:8080/"
    },
    "executionInfo": {
     "elapsed": 463,
     "status": "ok",
     "timestamp": 1726041306965,
     "user": {
      "displayName": "Greender",
      "userId": "02761766365900387031"
     },
     "user_tz": -180
    },
    "id": "vfKIHlVBKTLx",
    "outputId": "8fed49a6-b2c3-4c17-cebc-efc439f920fa"
   },
   "outputs": [],
   "source": [
    "X = df.loc[:, df.columns != 'mark']\n",
    "Y = df['mark']\n",
    "Y.unique()"
   ]
  },
  {
   "cell_type": "code",
   "execution_count": null,
   "metadata": {
    "id": "AuI6m9ZDLrXg"
   },
   "outputs": [],
   "source": [
    "X = np.array(X)\n",
    "y = np.array(Y)\n",
    "\n",
    "scaler = StandardScaler()\n",
    "X_scaled = scaler.fit_transform(X)\n",
    "print(type(X))\n",
    "print(type(X_scaled))"
   ]
  },
  {
   "cell_type": "code",
   "execution_count": null,
   "metadata": {
    "colab": {
     "base_uri": "https://localhost:8080/"
    },
    "executionInfo": {
     "elapsed": 3,
     "status": "ok",
     "timestamp": 1726041306965,
     "user": {
      "displayName": "Greender",
      "userId": "02761766365900387031"
     },
     "user_tz": -180
    },
    "id": "tEHVNOFgJ8Xi",
    "outputId": "9dba1134-6f60-41f8-e4a3-ca7c58195973"
   },
   "outputs": [
    {
     "name": "stdout",
     "output_type": "stream",
     "text": [
      "Training Shape (2862, 18, 1) (2862,)\n",
      "Testing Shape (1227, 18, 1) (1227,)\n"
     ]
    }
   ],
   "source": [
    "X_train, X_test, y_train, y_test = train_test_split(X_scaled, y, test_size=0.3, random_state=True)\n",
    "\n",
    "X_train = X_train.reshape(X_train.shape[0], 18, 1).astype('float32')\n",
    "X_test = X_test.reshape(X_test.shape[0], 18, 1).astype('float32')\n",
    "\n",
    "print(\"Training Shape\", X_train.shape, y_train.shape)\n",
    "print(\"Testing Shape\", X_test.shape, y_test.shape)"
   ]
  },
  {
   "cell_type": "code",
   "execution_count": null,
   "metadata": {},
   "outputs": [],
   "source": [
    "from torch.utils.data import Dataset, TensorDataset, DataLoader\n",
    "\n",
    "class MyDataset(Dataset):\n",
    "    def __init__(self, data, targets):\n",
    "        self.data = data\n",
    "        self.labels = torch.LongTensor(targets)\n",
    "\n",
    "    def __getitem__(self, index):\n",
    "        x = self.data[index]\n",
    "        y = self.labels[index]\n",
    "\n",
    "        x = torch.FloatTensor(x)\n",
    "        y = torch.from_numpy(np.array(y))\n",
    "        return x, y\n",
    "\n",
    "    def __len__(self):\n",
    "        return len(self.data)"
   ]
  },
  {
   "cell_type": "code",
   "execution_count": null,
   "metadata": {
    "colab": {
     "base_uri": "https://localhost:8080/"
    },
    "executionInfo": {
     "elapsed": 2,
     "status": "ok",
     "timestamp": 1726041306965,
     "user": {
      "displayName": "Greender",
      "userId": "02761766365900387031"
     },
     "user_tz": -180
    },
    "id": "yVXIUFAgNab5",
    "outputId": "febd3c8e-2448-4abe-eb00-656430a59fd5"
   },
   "outputs": [
    {
     "data": {
      "text/plain": [
       "device(type='cpu')"
      ]
     },
     "execution_count": 175,
     "metadata": {},
     "output_type": "execute_result"
    }
   ],
   "source": [
    "def get_default_device():\n",
    "    \"\"\"Pick GPU if available, else CPU\"\"\"\n",
    "    if torch.cuda.is_available():\n",
    "        return torch.device('cuda')\n",
    "    else:\n",
    "        return torch.device('cpu')\n",
    "\n",
    "def to_device(data, device):\n",
    "    \"\"\"Move tensor(s) to chosen device\"\"\"\n",
    "    if isinstance(data, (list,tuple)):\n",
    "        return [to_device(x, device) for x in data]\n",
    "    return data.to(device, non_blocking=True)\n",
    "\n",
    "class DeviceDataLoader():\n",
    "    \"\"\"Wrap a dataloader to move data to a device\"\"\"\n",
    "    def __init__(self, dl, device):\n",
    "        self.dl = dl\n",
    "        self.device = device\n",
    "\n",
    "    def __iter__(self):\n",
    "        \"\"\"Yield a batch of data after moving it to device\"\"\"\n",
    "        for b in self.dl:\n",
    "            yield to_device(b, self.device)\n",
    "\n",
    "    def __len__(self):\n",
    "        \"\"\"Number of batches\"\"\"\n",
    "        return len(self.dl)\n",
    "\n",
    "device = get_default_device()\n",
    "device"
   ]
  },
  {
   "cell_type": "code",
   "execution_count": null,
   "metadata": {
    "id": "FUXauWkjNxnw"
   },
   "outputs": [],
   "source": [
    "train_dataset = MyDataset(X_train, y_train)\n",
    "train_dataloader = DataLoader(train_dataset, batch_size=5)\n",
    "test_dataset = MyDataset(X_test, y_test)\n",
    "test_dataloader = DataLoader(test_dataset, batch_size=5)"
   ]
  },
  {
   "cell_type": "code",
   "execution_count": null,
   "metadata": {
    "id": "d74KDZTIODoM"
   },
   "outputs": [],
   "source": [
    "# Тут можно поиграться с некоторыми гиперпараметрами\n",
    "# Например, с кол-вом слоёв или f-ями активации\n",
    "\n",
    "class CNN(nn.Module):\n",
    "  def __init__(self, in_channels, num_classes):\n",
    "    super(CNN,self).__init__()\n",
    "\n",
    "    self.relu = nn.ReLU(inplace=True)\n",
    "    self.fc1 = nn.Linear(in_channels,50)\n",
    "    self.fc2 = nn.Linear(50,num_classes)\n",
    "    self.dp = nn.Dropout(0.42)\n",
    "\n",
    "  def forward(self,x):\n",
    "    x = self.relu(x)\n",
    "    x = x.view(x.size(0), -1)\n",
    "    x = self.dp(x)\n",
    "    x = self.fc1(x)\n",
    "    x = self.relu(x)\n",
    "    x = self.dp(x)\n",
    "    x = self.fc2(x)\n",
    "\n",
    "    return x\n",
    "\n",
    "  def training_step(self, batch):\n",
    "    data, labels = batch\n",
    "    out = self(data)                  # Generate predictions\n",
    "    loss = F.cross_entropy(out, labels) # Calculate loss\n",
    "    acc = accuracy(out, labels)           # Calculate accuracy\n",
    "    return acc, loss\n",
    "\n",
    "  def validation_step(self, batch):\n",
    "    data, labels = batch\n",
    "    out = self(data)                    # Generate predictions\n",
    "    loss = F.cross_entropy(out, labels)   # Calculate loss\n",
    "    acc = accuracy(out, labels)           # Calculate accuracy\n",
    "    return {'val_loss': loss, 'val_acc': acc}\n",
    "\n",
    "  def validation_epoch_end(self, outputs):\n",
    "    batch_losses = [x['val_loss'] for x in outputs]\n",
    "    epoch_loss = torch.stack(batch_losses).mean()   # Combine losses\n",
    "    batch_accs = [x['val_acc'] for x in outputs]\n",
    "    epoch_acc = torch.stack(batch_accs).mean()      # Combine accuracies\n",
    "    return {'val_loss': epoch_loss.item(), 'val_acc': epoch_acc.item()}\n",
    "\n",
    "  def epoch_end(self, epoch, result):\n",
    "    print(\"Epoch [{}]: train_acc: {:.4f}, train_loss: {:.4f}, val_loss: {:.4f}, val_acc: {:.4f}\".format(\n",
    "        epoch, result['train_acc'], result['train_loss'], result['val_loss'], result['val_acc']))"
   ]
  },
  {
   "cell_type": "code",
   "execution_count": null,
   "metadata": {
    "id": "z8nBUAy3OO50"
   },
   "outputs": [],
   "source": [
    "train_dl = DeviceDataLoader(train_dataloader, device)\n",
    "val_dl = DeviceDataLoader(test_dataloader, device)"
   ]
  },
  {
   "cell_type": "code",
   "execution_count": null,
   "metadata": {
    "colab": {
     "base_uri": "https://localhost:8080/"
    },
    "executionInfo": {
     "elapsed": 2,
     "status": "ok",
     "timestamp": 1726041307837,
     "user": {
      "displayName": "Greender",
      "userId": "02761766365900387031"
     },
     "user_tz": -180
    },
    "id": "922kFYE6O1cO",
    "outputId": "1e2cffd5-55c7-4a5c-878c-f0f0067e296c"
   },
   "outputs": [
    {
     "data": {
      "text/plain": [
       "CNN(\n",
       "  (relu): ReLU(inplace=True)\n",
       "  (fc1): Linear(in_features=18, out_features=50, bias=True)\n",
       "  (fc2): Linear(in_features=50, out_features=2, bias=True)\n",
       "  (dp): Dropout(p=0.42, inplace=False)\n",
       ")"
      ]
     },
     "execution_count": 179,
     "metadata": {},
     "output_type": "execute_result"
    }
   ],
   "source": [
    "num_epochs = 100\n",
    "# learning_rate = 0.0001\n",
    "learning_rate = 0.00001\n",
    "\n",
    "in_channels = X.shape[1]\n",
    "num_classes = len(Y.unique())\n",
    "\n",
    "model = to_device(CNN(in_channels, num_classes), device)\n",
    "model"
   ]
  },
  {
   "cell_type": "code",
   "execution_count": null,
   "metadata": {
    "colab": {
     "base_uri": "https://localhost:8080/"
    },
    "executionInfo": {
     "elapsed": 104554,
     "status": "ok",
     "timestamp": 1726041412390,
     "user": {
      "displayName": "Greender",
      "userId": "02761766365900387031"
     },
     "user_tz": -180
    },
    "id": "WK9aK_yUO6rM",
    "outputId": "ea19e24f-c01b-4c81-f13a-3f51cad847af"
   },
   "outputs": [
    {
     "name": "stdout",
     "output_type": "stream",
     "text": [
      "Epoch [0]: train_acc: 0.7700, train_loss: 0.5979, val_loss: 0.5693, val_acc: 0.8285\n",
      "Epoch [1]: train_acc: 0.8476, train_loss: 0.5460, val_loss: 0.5168, val_acc: 0.9085\n",
      "Epoch [2]: train_acc: 0.9173, train_loss: 0.4999, val_loss: 0.4729, val_acc: 0.9447\n",
      "Epoch [3]: train_acc: 0.9529, train_loss: 0.4499, val_loss: 0.4285, val_acc: 0.9691\n",
      "Epoch [4]: train_acc: 0.9672, train_loss: 0.4080, val_loss: 0.3797, val_acc: 0.9764\n",
      "Epoch [5]: train_acc: 0.9791, train_loss: 0.3694, val_loss: 0.3509, val_acc: 0.9862\n",
      "Epoch [6]: train_acc: 0.9832, train_loss: 0.3365, val_loss: 0.3217, val_acc: 0.9862\n",
      "Epoch [7]: train_acc: 0.9825, train_loss: 0.3045, val_loss: 0.2913, val_acc: 0.9870\n",
      "Epoch [8]: train_acc: 0.9864, train_loss: 0.2757, val_loss: 0.2643, val_acc: 0.9894\n",
      "Epoch [9]: train_acc: 0.9864, train_loss: 0.2480, val_loss: 0.2372, val_acc: 0.9894\n",
      "Epoch [10]: train_acc: 0.9864, train_loss: 0.2303, val_loss: 0.2228, val_acc: 0.9894\n",
      "Epoch [11]: train_acc: 0.9864, train_loss: 0.2134, val_loss: 0.2041, val_acc: 0.9894\n",
      "Epoch [12]: train_acc: 0.9860, train_loss: 0.1904, val_loss: 0.1827, val_acc: 0.9894\n",
      "Epoch [13]: train_acc: 0.9864, train_loss: 0.1775, val_loss: 0.1678, val_acc: 0.9894\n",
      "Epoch [14]: train_acc: 0.9864, train_loss: 0.1703, val_loss: 0.1539, val_acc: 0.9894\n",
      "Epoch [15]: train_acc: 0.9864, train_loss: 0.1574, val_loss: 0.1434, val_acc: 0.9894\n",
      "Epoch [16]: train_acc: 0.9864, train_loss: 0.1459, val_loss: 0.1356, val_acc: 0.9894\n",
      "Epoch [17]: train_acc: 0.9864, train_loss: 0.1356, val_loss: 0.1325, val_acc: 0.9894\n",
      "Epoch [18]: train_acc: 0.9864, train_loss: 0.1322, val_loss: 0.1241, val_acc: 0.9894\n",
      "Epoch [19]: train_acc: 0.9864, train_loss: 0.1230, val_loss: 0.1176, val_acc: 0.9894\n",
      "Epoch [20]: train_acc: 0.9864, train_loss: 0.1191, val_loss: 0.1044, val_acc: 0.9894\n",
      "Epoch [21]: train_acc: 0.9864, train_loss: 0.1127, val_loss: 0.1025, val_acc: 0.9894\n",
      "Epoch [22]: train_acc: 0.9864, train_loss: 0.1107, val_loss: 0.1043, val_acc: 0.9894\n",
      "Epoch [23]: train_acc: 0.9864, train_loss: 0.1122, val_loss: 0.0981, val_acc: 0.9894\n",
      "Epoch [24]: train_acc: 0.9864, train_loss: 0.1128, val_loss: 0.0907, val_acc: 0.9894\n",
      "Epoch [25]: train_acc: 0.9864, train_loss: 0.1047, val_loss: 0.1016, val_acc: 0.9894\n",
      "Epoch [26]: train_acc: 0.9864, train_loss: 0.1012, val_loss: 0.0863, val_acc: 0.9894\n",
      "Epoch [27]: train_acc: 0.9864, train_loss: 0.0984, val_loss: 0.0945, val_acc: 0.9894\n",
      "Epoch [28]: train_acc: 0.9864, train_loss: 0.0974, val_loss: 0.0834, val_acc: 0.9894\n",
      "Epoch [29]: train_acc: 0.9864, train_loss: 0.0953, val_loss: 0.0825, val_acc: 0.9894\n",
      "Epoch [30]: train_acc: 0.9864, train_loss: 0.0901, val_loss: 0.0895, val_acc: 0.9894\n",
      "Epoch [31]: train_acc: 0.9864, train_loss: 0.0974, val_loss: 0.0870, val_acc: 0.9894\n",
      "Epoch [32]: train_acc: 0.9864, train_loss: 0.0992, val_loss: 0.0838, val_acc: 0.9894\n",
      "Epoch [33]: train_acc: 0.9864, train_loss: 0.0941, val_loss: 0.0827, val_acc: 0.9894\n",
      "Epoch [34]: train_acc: 0.9864, train_loss: 0.0977, val_loss: 0.0800, val_acc: 0.9894\n",
      "Epoch [35]: train_acc: 0.9864, train_loss: 0.0924, val_loss: 0.0790, val_acc: 0.9894\n",
      "Epoch [36]: train_acc: 0.9864, train_loss: 0.0900, val_loss: 0.0838, val_acc: 0.9894\n",
      "Epoch [37]: train_acc: 0.9864, train_loss: 0.0902, val_loss: 0.0834, val_acc: 0.9894\n",
      "Epoch [38]: train_acc: 0.9864, train_loss: 0.0941, val_loss: 0.0794, val_acc: 0.9894\n",
      "Epoch [39]: train_acc: 0.9864, train_loss: 0.0932, val_loss: 0.0883, val_acc: 0.9894\n",
      "Epoch [40]: train_acc: 0.9864, train_loss: 0.0890, val_loss: 0.0893, val_acc: 0.9894\n",
      "Epoch [41]: train_acc: 0.9864, train_loss: 0.0968, val_loss: 0.0873, val_acc: 0.9894\n",
      "Epoch [42]: train_acc: 0.9864, train_loss: 0.0879, val_loss: 0.0774, val_acc: 0.9894\n",
      "Epoch [43]: train_acc: 0.9864, train_loss: 0.0911, val_loss: 0.0791, val_acc: 0.9894\n",
      "Epoch [44]: train_acc: 0.9864, train_loss: 0.0880, val_loss: 0.0746, val_acc: 0.9894\n",
      "Epoch [45]: train_acc: 0.9864, train_loss: 0.0872, val_loss: 0.0768, val_acc: 0.9894\n",
      "Epoch [46]: train_acc: 0.9864, train_loss: 0.0923, val_loss: 0.0726, val_acc: 0.9894\n",
      "Epoch [47]: train_acc: 0.9864, train_loss: 0.0867, val_loss: 0.0729, val_acc: 0.9894\n",
      "Epoch [48]: train_acc: 0.9864, train_loss: 0.0808, val_loss: 0.0662, val_acc: 0.9894\n",
      "Epoch [49]: train_acc: 0.9864, train_loss: 0.0829, val_loss: 0.0714, val_acc: 0.9894\n",
      "Epoch [50]: train_acc: 0.9864, train_loss: 0.0867, val_loss: 0.0761, val_acc: 0.9894\n",
      "Epoch [51]: train_acc: 0.9864, train_loss: 0.0865, val_loss: 0.0758, val_acc: 0.9894\n",
      "Epoch [52]: train_acc: 0.9864, train_loss: 0.0852, val_loss: 0.0799, val_acc: 0.9894\n",
      "Epoch [53]: train_acc: 0.9864, train_loss: 0.0836, val_loss: 0.0807, val_acc: 0.9894\n",
      "Epoch [54]: train_acc: 0.9864, train_loss: 0.0796, val_loss: 0.0691, val_acc: 0.9894\n",
      "Epoch [55]: train_acc: 0.9864, train_loss: 0.0852, val_loss: 0.0755, val_acc: 0.9894\n",
      "Epoch [56]: train_acc: 0.9864, train_loss: 0.0913, val_loss: 0.0735, val_acc: 0.9894\n",
      "Epoch [57]: train_acc: 0.9864, train_loss: 0.0833, val_loss: 0.0706, val_acc: 0.9894\n",
      "Epoch [58]: train_acc: 0.9864, train_loss: 0.0875, val_loss: 0.0810, val_acc: 0.9894\n",
      "Epoch [59]: train_acc: 0.9864, train_loss: 0.0930, val_loss: 0.0722, val_acc: 0.9894\n",
      "Epoch [60]: train_acc: 0.9864, train_loss: 0.0860, val_loss: 0.0705, val_acc: 0.9894\n",
      "Epoch [61]: train_acc: 0.9864, train_loss: 0.0833, val_loss: 0.0755, val_acc: 0.9894\n",
      "Epoch [62]: train_acc: 0.9864, train_loss: 0.0874, val_loss: 0.0698, val_acc: 0.9894\n",
      "Epoch [63]: train_acc: 0.9864, train_loss: 0.0876, val_loss: 0.0743, val_acc: 0.9894\n",
      "Epoch [64]: train_acc: 0.9864, train_loss: 0.0839, val_loss: 0.0755, val_acc: 0.9894\n",
      "Epoch [65]: train_acc: 0.9864, train_loss: 0.0840, val_loss: 0.0654, val_acc: 0.9894\n",
      "Epoch [66]: train_acc: 0.9864, train_loss: 0.0809, val_loss: 0.0722, val_acc: 0.9894\n",
      "Epoch [67]: train_acc: 0.9864, train_loss: 0.0845, val_loss: 0.0751, val_acc: 0.9894\n",
      "Epoch [68]: train_acc: 0.9864, train_loss: 0.0817, val_loss: 0.0753, val_acc: 0.9894\n",
      "Epoch [69]: train_acc: 0.9864, train_loss: 0.0886, val_loss: 0.0753, val_acc: 0.9894\n",
      "Epoch [70]: train_acc: 0.9864, train_loss: 0.0802, val_loss: 0.0830, val_acc: 0.9894\n",
      "Epoch [71]: train_acc: 0.9864, train_loss: 0.0865, val_loss: 0.0806, val_acc: 0.9894\n",
      "Epoch [72]: train_acc: 0.9864, train_loss: 0.0862, val_loss: 0.0732, val_acc: 0.9894\n",
      "Epoch [73]: train_acc: 0.9864, train_loss: 0.0810, val_loss: 0.0782, val_acc: 0.9894\n",
      "Epoch [74]: train_acc: 0.9864, train_loss: 0.0868, val_loss: 0.0713, val_acc: 0.9894\n",
      "Epoch [75]: train_acc: 0.9864, train_loss: 0.0839, val_loss: 0.0819, val_acc: 0.9894\n",
      "Epoch [76]: train_acc: 0.9864, train_loss: 0.0863, val_loss: 0.0801, val_acc: 0.9894\n",
      "Epoch [77]: train_acc: 0.9864, train_loss: 0.0817, val_loss: 0.0749, val_acc: 0.9894\n",
      "Epoch [78]: train_acc: 0.9864, train_loss: 0.0825, val_loss: 0.0711, val_acc: 0.9894\n",
      "Epoch [79]: train_acc: 0.9864, train_loss: 0.0853, val_loss: 0.0714, val_acc: 0.9894\n",
      "Epoch [80]: train_acc: 0.9864, train_loss: 0.0787, val_loss: 0.0676, val_acc: 0.9894\n",
      "Epoch [81]: train_acc: 0.9864, train_loss: 0.0887, val_loss: 0.0812, val_acc: 0.9894\n",
      "Epoch [82]: train_acc: 0.9864, train_loss: 0.0838, val_loss: 0.0748, val_acc: 0.9894\n",
      "Epoch [83]: train_acc: 0.9864, train_loss: 0.0817, val_loss: 0.0744, val_acc: 0.9894\n",
      "Epoch [84]: train_acc: 0.9864, train_loss: 0.0815, val_loss: 0.0767, val_acc: 0.9894\n",
      "Epoch [85]: train_acc: 0.9864, train_loss: 0.0808, val_loss: 0.0727, val_acc: 0.9894\n",
      "Epoch [86]: train_acc: 0.9864, train_loss: 0.0776, val_loss: 0.0740, val_acc: 0.9894\n",
      "Epoch [87]: train_acc: 0.9864, train_loss: 0.0831, val_loss: 0.0735, val_acc: 0.9894\n",
      "Epoch [88]: train_acc: 0.9864, train_loss: 0.0791, val_loss: 0.0749, val_acc: 0.9894\n",
      "Epoch [89]: train_acc: 0.9864, train_loss: 0.0833, val_loss: 0.0717, val_acc: 0.9894\n",
      "Epoch [90]: train_acc: 0.9864, train_loss: 0.0841, val_loss: 0.0760, val_acc: 0.9894\n",
      "Epoch [91]: train_acc: 0.9864, train_loss: 0.0824, val_loss: 0.0746, val_acc: 0.9894\n",
      "Epoch [92]: train_acc: 0.9864, train_loss: 0.0836, val_loss: 0.0726, val_acc: 0.9894\n",
      "Epoch [93]: train_acc: 0.9864, train_loss: 0.0841, val_loss: 0.0798, val_acc: 0.9894\n",
      "Epoch [94]: train_acc: 0.9864, train_loss: 0.0814, val_loss: 0.0732, val_acc: 0.9894\n",
      "Epoch [95]: train_acc: 0.9864, train_loss: 0.0848, val_loss: 0.0702, val_acc: 0.9894\n",
      "Epoch [96]: train_acc: 0.9864, train_loss: 0.0779, val_loss: 0.0744, val_acc: 0.9894\n",
      "Epoch [97]: train_acc: 0.9864, train_loss: 0.0818, val_loss: 0.0675, val_acc: 0.9894\n",
      "Epoch [98]: train_acc: 0.9864, train_loss: 0.0854, val_loss: 0.0816, val_acc: 0.9894\n",
      "Epoch [99]: train_acc: 0.9864, train_loss: 0.0830, val_loss: 0.0716, val_acc: 0.9894\n"
     ]
    }
   ],
   "source": [
    "def accuracy(outputs, labels):\n",
    "  _, preds = torch.max(outputs, dim=1)\n",
    "  return torch.tensor(torch.sum(preds == labels).item() / len(preds))\n",
    "\n",
    "@torch.no_grad()\n",
    "def evaluate(model, val_loader):\n",
    "  outputs = [model.validation_step(batch) for batch in val_loader]\n",
    "  return model.validation_epoch_end(outputs)\n",
    "\n",
    "optimizer = torch.optim.Adam(model.parameters(), lr=learning_rate)\n",
    "#optimizer = torch.optim.SGD(lstm.parameters(), lr=learning_rate)\n",
    "\n",
    "best_acc = -np.inf\n",
    "history = []\n",
    "# Train the model\n",
    "for epoch in range(num_epochs):\n",
    "  # Training Phase\n",
    "  # model.train()\n",
    "  train_acc = []\n",
    "  train_losses = []\n",
    "  for batch in train_dl:\n",
    "    acc, loss = model.training_step(batch)\n",
    "    train_acc.append(acc)\n",
    "    train_losses.append(loss)\n",
    "    loss.backward()\n",
    "    optimizer.step()\n",
    "    optimizer.zero_grad()\n",
    "  # Validation phase\n",
    "  result = evaluate(model, val_dl)\n",
    "  result['train_acc'] = torch.stack(train_acc).mean().item()\n",
    "  result['train_loss'] = torch.stack(train_losses).mean().item()\n",
    "\n",
    "  if result['val_acc']>best_acc:\n",
    "    best_acc = result['val_acc']\n",
    "    torch.save(model.state_dict(), 'cnn.pth')\n",
    "\n",
    "  # Шаблон писался для другого датасета,\n",
    "  # так что в целях лени и экономии времени название оставляю прежним\n",
    "\n",
    "  model.epoch_end(epoch, result)\n",
    "  history.append(result)"
   ]
  },
  {
   "cell_type": "code",
   "execution_count": 8,
   "metadata": {},
   "outputs": [
    {
     "name": "stdout",
     "output_type": "stream",
     "text": [
      "import torch\n",
      "print(torch.__version__)\n",
      "import numpy as np\n",
      "import random\n",
      "import matplotlib.pyplot as plt\n",
      "import torch.nn as nn\n",
      "import torch.nn.functional as F\n",
      "from torch.utils.data import Dataset, TensorDataset, DataLoader\n",
      "from torch.utils.data import random_split\n",
      "from sklearn.model_selection import train_test_split\n",
      "from sklearn.preprocessing import StandardScaler\n",
      "from  sklearn import  datasets\n",
      "from sklearn.datasets import load_iris\n",
      "from sklearn.preprocessing import StandardScaler\n",
      "import pandas as pd\n",
      "from sklearn.preprocessing import LabelEncoder\n",
      "from torch.autograd import Variable\n",
      "%matplotlib inline\n",
      "df = pd.read_excel('result_set.xlsx')\n",
      "df.columns = df.columns.str.replace(' ', '')\n",
      "df.info()\n",
      "df = pd.read_excel('result_set.xlsx')\n",
      "df.columns = df.columns.str.replace(' ', '')\n",
      "df.info()\n",
      "import torch\n",
      "print(torch.__version__)\n",
      "import numpy as np\n",
      "import random\n",
      "import matplotlib.pyplot as plt\n",
      "import torch.nn as nn\n",
      "import torch.nn.functional as F\n",
      "from torch.utils.data import Dataset, TensorDataset, DataLoader\n",
      "from torch.utils.data import random_split\n",
      "from sklearn.model_selection import train_test_split\n",
      "from sklearn.preprocessing import StandardScaler\n",
      "from  sklearn import  datasets\n",
      "from sklearn.datasets import load_iris\n",
      "from sklearn.preprocessing import StandardScaler\n",
      "import pandas as pd\n",
      "from sklearn.preprocessing import LabelEncoder\n",
      "from torch.autograd import Variable\n",
      "%matplotlib inline\n",
      "df = pd.read_excel('result_set.xlsx')\n",
      "df.columns = df.columns.str.replace(' ', '')\n",
      "df.info()\n",
      "# По-хорошему Null и NaN-значения бы заменить или проинтерполировать,\n",
      "# но ввиду ограничений по времени было принято решения удалить данные\n",
      "# При решении же реальных задач может повлечь потерю важной информации\n",
      "df = df.dropna()\n",
      "df.info()\n",
      "# По-хорошему, использовать OneHotEncoding,\n",
      "# но в целях экономии времени будем использовать более \"вредный\" метод\n",
      "\n",
      "labelencoder8 = LabelEncoder()\n",
      "labelencoder9 = LabelEncoder()\n",
      "labelencoder11 = LabelEncoder()\n",
      "labelencoder15 = LabelEncoder()\n",
      "labelencoder16 = LabelEncoder()\n",
      "\n",
      "df['Ft8'] = labelencoder8.fit_transform(df['Ft8'].values)\n",
      "df['Ft9'] = labelencoder9.fit_transform(df['Ft9'].values)\n",
      "df['Ft11'] = labelencoder11.fit_transform(df['Ft11'].values)\n",
      "df['Ft15'] = labelencoder15.fit_transform(df['Ft15'].values)\n",
      "df['Ft16'] = labelencoder16.fit_transform(df['Ft16'].values)\n",
      "\n",
      "df.head()\n",
      "history\n"
     ]
    }
   ],
   "source": [
    "history"
   ]
  },
  {
   "cell_type": "code",
   "execution_count": null,
   "metadata": {
    "colab": {
     "base_uri": "https://localhost:8080/",
     "height": 472
    },
    "executionInfo": {
     "elapsed": 670,
     "status": "ok",
     "timestamp": 1726041413051,
     "user": {
      "displayName": "Greender",
      "userId": "02761766365900387031"
     },
     "user_tz": -180
    },
    "id": "ZEzfctjJQ0An",
    "outputId": "7c99e63b-cb72-4bb1-ef46-b670def640d0"
   },
   "outputs": [
    {
     "data": {
      "image/png": "[encoded data removed]",
      "text/plain": [
       "<Figure size 640x480 with 1 Axes>"
      ]
     },
     "metadata": {},
     "output_type": "display_data"
    }
   ],
   "source": [
    "def plot_losses(history):\n",
    "    train_losses = [x.get('train_loss') for x in history]\n",
    "    val_losses = [x['val_loss'] for x in history]\n",
    "    plt.plot(train_losses, '-bx')\n",
    "    plt.plot(val_losses, '-rx')\n",
    "    plt.xlabel('epoch')\n",
    "    plt.ylabel('loss')\n",
    "    plt.legend(['Training', 'Validation'])\n",
    "    plt.title('Loss vs. No. of epochs');\n",
    "\n",
    "plot_losses(history)"
   ]
  },
  {
   "cell_type": "code",
   "execution_count": null,
   "metadata": {
    "colab": {
     "base_uri": "https://localhost:8080/",
     "height": 472
    },
    "executionInfo": {
     "elapsed": 4,
     "status": "ok",
     "timestamp": 1726041413051,
     "user": {
      "displayName": "Greender",
      "userId": "02761766365900387031"
     },
     "user_tz": -180
    },
    "id": "Iaowr0bZRG1y",
    "outputId": "881b5102-9eb3-4179-e2b5-1eac88dbe550"
   },
   "outputs": [
    {
     "data": {
      "image/png": "[encoded data removed]",
      "text/plain": [
       "<Figure size 640x480 with 1 Axes>"
      ]
     },
     "metadata": {},
     "output_type": "display_data"
    }
   ],
   "source": [
    "accuracies = [x['val_acc'] for x in history]\n",
    "plt.plot(accuracies, '-x')\n",
    "plt.xlabel('epoch')\n",
    "plt.ylabel('accuracy')\n",
    "plt.title('Accuracy vs. No. of epochs');"
   ]
  },
  {
   "cell_type": "code",
   "execution_count": null,
   "metadata": {
    "colab": {
     "base_uri": "https://localhost:8080/"
    },
    "executionInfo": {
     "elapsed": 3,
     "status": "ok",
     "timestamp": 1726041413510,
     "user": {
      "displayName": "Greender",
      "userId": "02761766365900387031"
     },
     "user_tz": -180
    },
    "id": "O6kZox1JRIwX",
    "outputId": "ea7da90e-4f8d-4b7c-c06e-3e4b4d6669f0"
   },
   "outputs": [
    {
     "data": {
      "text/plain": [
       "{'val_loss': 0.06667860597372055, 'val_acc': 0.989430844783783}"
      ]
     },
     "execution_count": 183,
     "metadata": {},
     "output_type": "execute_result"
    }
   ],
   "source": [
    "test_loader = DeviceDataLoader(DataLoader(test_dataset, batch_size=10), device)\n",
    "result = evaluate(model, test_loader)\n",
    "result"
   ]
  },
  {
   "cell_type": "code",
   "execution_count": null,
   "metadata": {
    "colab": {
     "base_uri": "https://localhost:8080/",
     "height": 889
    },
    "executionInfo": {
     "elapsed": 490,
     "status": "ok",
     "timestamp": 1726041413998,
     "user": {
      "displayName": "Greender",
      "userId": "02761766365900387031"
     },
     "user_tz": -180
    },
    "id": "HcioVusGRKaV",
    "outputId": "3cae749d-c677-4241-8465-491fed8663c0"
   },
   "outputs": [
    {
     "name": "stdout",
     "output_type": "stream",
     "text": [
      ">loaded cnn.pth\n"
     ]
    },
    {
     "data": {
      "image/png": "[encoded data removed]",
      "text/plain": [
       "<Figure size 1000x1000 with 1 Axes>"
      ]
     },
     "metadata": {},
     "output_type": "display_data"
    }
   ],
   "source": [
    "from sklearn.metrics import roc_curve, auc\n",
    "from sklearn.preprocessing import OneHotEncoder\n",
    "\n",
    "plt.figure(figsize=(10, 10))\n",
    "plt.plot([0, 1], [0, 1], 'k--')\n",
    "\n",
    "# One hot encoding\n",
    "enc = OneHotEncoder()\n",
    "Y_onehot = enc.fit_transform(y_test[:, np.newaxis]).toarray()\n",
    "\n",
    "filename = \"cnn.pth\"\n",
    "model.load_state_dict(torch.load(filename, map_location=device, weights_only=True))\n",
    "print('>loaded %s' % filename)\n",
    "model.to(device)\n",
    "model.eval()\n",
    "#to_device(model, device)\n",
    "\n",
    "with torch.no_grad():\n",
    "    y_pred = model(to_device(torch.FloatTensor(X_test), device))\n",
    "    y_pred = y_pred.cpu().detach().numpy()\n",
    "    fpr, tpr, threshold = roc_curve(Y_onehot.ravel(), y_pred.ravel())\n",
    "\n",
    "plt.plot(fpr, tpr, label='AUC = {:.3f}'.format(auc(fpr, tpr)))\n",
    "plt.xlabel('False positive rate')\n",
    "plt.ylabel('True positive rate')\n",
    "plt.title('ROC curve')\n",
    "plt.legend();"
   ]
  },
  {
   "cell_type": "code",
   "execution_count": null,
   "metadata": {
    "colab": {
     "base_uri": "https://localhost:8080/"
    },
    "executionInfo": {
     "elapsed": 4,
     "status": "ok",
     "timestamp": 1726041413998,
     "user": {
      "displayName": "Greender",
      "userId": "02761766365900387031"
     },
     "user_tz": -180
    },
    "id": "39ufkbVoROQF",
    "outputId": "6eb02a9d-143b-41c6-e934-dd9e3222928d"
   },
   "outputs": [
    {
     "name": "stdout",
     "output_type": "stream",
     "text": [
      ">loaded cnn.pth\n"
     ]
    },
    {
     "data": {
      "text/plain": [
       "array([[ 1.4339218 , -0.39888203],\n",
       "       [ 0.5639998 , -0.50076675],\n",
       "       [ 1.1057202 , -0.86949617],\n",
       "       ...,\n",
       "       [ 1.217704  , -0.48831403],\n",
       "       [ 1.4407622 , -0.6636882 ],\n",
       "       [ 0.6593344 , -0.23960261]], dtype=float32)"
      ]
     },
     "execution_count": 185,
     "metadata": {},
     "output_type": "execute_result"
    }
   ],
   "source": [
    "from torch.autograd import Variable\n",
    "\n",
    "file_name = \"cnn.pth\"\n",
    "#model = LSTM(num_classes, input_size, hidden_size, num_layers)\n",
    "model.load_state_dict(torch.load(file_name, weights_only=True))\n",
    "print('>loaded %s' % file_name)\n",
    "model.eval()\n",
    "\n",
    "# Prediction\n",
    "my_test = Variable(torch.from_numpy(X_test)).float()\n",
    "model.to(device)\n",
    "pred = model(to_device(my_test, device))\n",
    "pred = pred.cpu().detach().numpy()\n",
    "pred"
   ]
  },
  {
   "cell_type": "code",
   "execution_count": null,
   "metadata": {
    "colab": {
     "base_uri": "https://localhost:8080/"
    },
    "executionInfo": {
     "elapsed": 3,
     "status": "ok",
     "timestamp": 1726041413998,
     "user": {
      "displayName": "Greender",
      "userId": "02761766365900387031"
     },
     "user_tz": -180
    },
    "id": "-6XitFLMRQCT",
    "outputId": "58fb027f-5fe0-44ea-e18b-a066c9098283"
   },
   "outputs": [
    {
     "name": "stdout",
     "output_type": "stream",
     "text": [
      "The accuracy is 0.9894050529747351\n"
     ]
    }
   ],
   "source": [
    "from sklearn.metrics import accuracy_score\n",
    "print (\"The accuracy is\", accuracy_score(y_test, np.argmax(pred, axis=1)))"
   ]
  },
  {
   "cell_type": "code",
   "execution_count": null,
   "metadata": {
    "id": "rGsobKkT-t8p"
   },
   "outputs": [],
   "source": []
  }
 ],
 "metadata": {
  "colab": {
   "authorship_tag": "ABX9TyO46SG29OycuVE0e439bYoR",
   "provenance": []
  },
  "kernelspec": {
   "display_name": "Python 3 (ipykernel)",
   "language": "python",
   "name": "python3"
  },
  "language_info": {
   "codemirror_mode": {
    "name": "ipython",
    "version": 3
   },
   "file_extension": ".py",
   "mimetype": "text/x-python",
   "name": "python",
   "nbconvert_exporter": "python",
   "pygments_lexer": "ipython3",
   "version": "3.10.7"
  }
 },
 "nbformat": 4,
 "nbformat_minor": 4
}
