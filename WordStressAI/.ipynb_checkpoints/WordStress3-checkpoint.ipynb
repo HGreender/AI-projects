{
 "cells": [
  {
   "cell_type": "code",
   "execution_count": 1,
   "id": "46c1bba4-aaad-42ce-ba1e-ec16ed5994fc",
   "metadata": {},
   "outputs": [],
   "source": [
    "import torch\n",
    "import torch.nn as nn\n",
    "import torch.optim as optim\n",
    "from torch.utils.data import Dataset, DataLoader\n",
    "from torch.utils.data import random_split\n",
    "import pandas as pd\n",
    "import numpy as np\n",
    "from tqdm import tqdm\n",
    "import matplotlib.pyplot as plt\n",
    "import os\n",
    "%matplotlib inline"
   ]
  },
  {
   "cell_type": "code",
   "execution_count": 2,
   "id": "4edfb1cc-a93c-47b8-b059-98ffe797f1b9",
   "metadata": {},
   "outputs": [],
   "source": [
    "train_df = pd.read_csv('train.csv')\n",
    "test_df = pd.read_csv('test.csv')\n",
    "sample_submission_df = pd.read_csv('sample_submission.csv')"
   ]
  },
  {
   "cell_type": "code",
   "execution_count": 3,
   "id": "1889175c-079c-4c7d-b474-94d7d64f7ce2",
   "metadata": {
    "scrolled": true
   },
   "outputs": [
    {
     "name": "stdout",
     "output_type": "stream",
     "text": [
      "<class 'pandas.core.frame.DataFrame'>\n",
      "RangeIndex: 63438 entries, 0 to 63437\n",
      "Data columns (total 5 columns):\n",
      " #   Column         Non-Null Count  Dtype \n",
      "---  ------         --------------  ----- \n",
      " 0   id             63438 non-null  int64 \n",
      " 1   word           63438 non-null  object\n",
      " 2   stress         63438 non-null  int64 \n",
      " 3   num_syllables  63438 non-null  int64 \n",
      " 4   lemma          63438 non-null  object\n",
      "dtypes: int64(3), object(2)\n",
      "memory usage: 2.4+ MB\n",
      "None \n",
      "=========================================\n",
      "<class 'pandas.core.frame.DataFrame'>\n",
      "RangeIndex: 29960 entries, 0 to 29959\n",
      "Data columns (total 4 columns):\n",
      " #   Column         Non-Null Count  Dtype \n",
      "---  ------         --------------  ----- \n",
      " 0   id             29960 non-null  int64 \n",
      " 1   word           29960 non-null  object\n",
      " 2   num_syllables  29960 non-null  int64 \n",
      " 3   lemma          29960 non-null  object\n",
      "dtypes: int64(2), object(2)\n",
      "memory usage: 936.4+ KB\n",
      "None \n",
      "=========================================\n",
      "<class 'pandas.core.frame.DataFrame'>\n",
      "RangeIndex: 29960 entries, 0 to 29959\n",
      "Data columns (total 2 columns):\n",
      " #   Column  Non-Null Count  Dtype\n",
      "---  ------  --------------  -----\n",
      " 0   id      29960 non-null  int64\n",
      " 1   stress  29960 non-null  int64\n",
      "dtypes: int64(2)\n",
      "memory usage: 468.2 KB\n",
      "None\n"
     ]
    }
   ],
   "source": [
    "# Проверим данные\n",
    "print(train_df.info(), '\\n=========================================')\n",
    "print(test_df.info(), '\\n=========================================')\n",
    "print(sample_submission_df.info())"
   ]
  },
  {
   "cell_type": "code",
   "execution_count": 4,
   "id": "4e43808c-867c-4354-a528-fe4a8eb6293a",
   "metadata": {
    "scrolled": true
   },
   "outputs": [
    {
     "name": "stdout",
     "output_type": "stream",
     "text": [
      "   id      word  stress  num_syllables     lemma\n",
      "0   0   румяной       2              3   румяный\n",
      "1   1   цифрами       1              3     цифра\n",
      "2   2   слугами       1              3     слуга\n",
      "3   3  выбирает       3              4  выбирать\n",
      "4   4  управдом       3              3  управдом \n",
      "=========================================\n",
      "   id           word  num_syllables        lemma\n",
      "0   0      эпилепсия              5    эпилепсия\n",
      "1   1    относящейся              5   относиться\n",
      "2   2  размышлениями              6  размышление\n",
      "3   3         модемы              3        модем\n",
      "4   4          солнц              1       солнце \n",
      "=========================================\n",
      "   id  stress\n",
      "0   0       1\n",
      "1   1       1\n",
      "2   2       1\n",
      "3   3       1\n",
      "4   4       1\n"
     ]
    }
   ],
   "source": [
    "# Окей, NaN и NULL нет\n",
    "print(train_df.head(), '\\n=========================================')\n",
    "print(test_df.head(), '\\n=========================================')\n",
    "print(sample_submission_df.head())"
   ]
  },
  {
   "cell_type": "code",
   "execution_count": 5,
   "id": "09ce8244-5d3d-45d3-9ff3-1eb3d7b36606",
   "metadata": {},
   "outputs": [],
   "source": [
    "# Чтобы не прописывать весь алфавит и символы, которые могут встретиться, \n",
    "# сделаем функцию для создания словаря из попавшихся символов\n",
    "def build_vocab(words):\n",
    "    chars = set()\n",
    "    for word in words:\n",
    "        for ch in word:\n",
    "            chars.add(ch)\n",
    "    chars = sorted(list(chars))\n",
    "    # Не забудем паддинг\n",
    "    char2idx = {ch: idx + 1 for idx, ch in enumerate(chars)}\n",
    "    char2idx['<PAD>'] = 0\n",
    "    idx2char = {idx: ch for ch, idx in char2idx.items()}\n",
    "    return char2idx, idx2char\n",
    "\n",
    "# Обратный процесс\n",
    "def encode_word(word, char2idx):\n",
    "    return [char2idx.get(ch, 0) for ch in word]  # если символ не найден, возвращаем 0"
   ]
  },
  {
   "cell_type": "code",
   "execution_count": 6,
   "id": "7a0978a8-fc7d-4f18-9902-d6234f1cf3c5",
   "metadata": {},
   "outputs": [],
   "source": [
    "# Создадим кастомный класс датасета \n",
    "class StressDataset(Dataset):\n",
    "    def __init__(self, csv_file, char2idx=None, mode='train'):\n",
    "        \"\"\"\n",
    "        mode: 'train' - есть метка stress, 'test' - её нет.\n",
    "        \"\"\"\n",
    "        self.data = pd.read_csv(csv_file)\n",
    "        self.mode = mode\n",
    "        self.words = self.data['word'].astype(str).tolist()\n",
    "        if mode == 'train':\n",
    "            self.stresses = self.data['stress'].tolist()  # метки (1-indexed)\n",
    "        else:\n",
    "            self.stresses = None\n",
    "        self.num_syllables = self.data['num_syllables'].tolist()\n",
    "        self.ids = self.data['id'].tolist()\n",
    "\n",
    "        # Если словарь не передан, строим его по тренировочным словам.\n",
    "        if char2idx is None:\n",
    "            self.char2idx, self.idx2char = build_vocab(self.words)\n",
    "        else:\n",
    "            self.char2idx = char2idx\n",
    "        self.encoded_words = [encode_word(word, self.char2idx) for word in self.words]\n",
    "\n",
    "    def __len__(self):\n",
    "        return len(self.words)\n",
    "\n",
    "    def __getitem__(self, idx):\n",
    "        item = {\n",
    "            'id': self.ids[idx],\n",
    "            'word': self.words[idx],\n",
    "            'encoded': torch.tensor(self.encoded_words[idx], dtype=torch.long),\n",
    "            'num_syllables': self.num_syllables[idx]\n",
    "        }\n",
    "        if self.mode == 'train':\n",
    "            item['stress'] = self.stresses[idx]\n",
    "        return item\n",
    "\n",
    "    def get_char2idx(self):\n",
    "        return self.char2idx"
   ]
  },
  {
   "cell_type": "code",
   "execution_count": 7,
   "id": "ebda92d6-5669-4f53-8077-04dd7d15f842",
   "metadata": {},
   "outputs": [],
   "source": [
    "# Функция для формирования батча (нам нужно учитывать паддинг)\n",
    "def collate_fn(batch):\n",
    "    ids = [b['id'] for b in batch]\n",
    "    encoded_seqs = [b['encoded'] for b in batch]\n",
    "    lengths = [len(seq) for seq in encoded_seqs]\n",
    "    padded = nn.utils.rnn.pad_sequence(encoded_seqs, batch_first=True, padding_value=0)\n",
    "    num_syllables = torch.tensor([b['num_syllables'] for b in batch], dtype=torch.long)\n",
    "    stresses = None\n",
    "    if 'stress' in batch[0]:\n",
    "        stresses = torch.tensor([b['stress'] for b in batch], dtype=torch.long)\n",
    "    return {\n",
    "        'id': ids,\n",
    "        'encoded': padded,\n",
    "        'lengths': lengths,\n",
    "        'num_syllables': num_syllables,\n",
    "        'stress': stresses\n",
    "    }"
   ]
  },
  {
   "cell_type": "code",
   "execution_count": 8,
   "id": "ec756d8e-492f-4468-8673-c750750050dc",
   "metadata": {},
   "outputs": [],
   "source": [
    "class StressModel(nn.Module):\n",
    "    def __init__(self, vocab_size, embed_dim=64, hidden_size=128, num_layers=2, num_classes=6, dropout=0.3):\n",
    "        super(StressModel, self).__init__()\n",
    "        self.embedding = nn.Embedding(vocab_size, embed_dim, padding_idx=0)\n",
    "        self.lstm = nn.LSTM(embed_dim, hidden_size, num_layers=num_layers, \n",
    "                            batch_first=True, bidirectional=True, dropout=dropout)\n",
    "        self.attention = nn.Linear(hidden_size * 2, 1)\n",
    "        self.layer_norm = nn.LayerNorm(hidden_size * 2)\n",
    "        self.dp = nn.Dropout(dropout)\n",
    "        self.fc = nn.Linear(hidden_size * 2, num_classes)\n",
    "    \n",
    "    def forward(self, x, lengths):\n",
    "        embedded = self.embedding(x)\n",
    "        embedded = self.dp(embedded)\n",
    "        packed = nn.utils.rnn.pack_padded_sequence(embedded, lengths, batch_first=True, enforce_sorted=False)\n",
    "        packed_output, (h_n, c_n) = self.lstm(packed)\n",
    "        outputs, _ = nn.utils.rnn.pad_packed_sequence(packed_output, batch_first=True)  # (batch, seq_len, hidden_size*2)\n",
    "\n",
    "        # Применяем механизм внимания\n",
    "        # Вычисляем веса внимания для каждого временного шага\n",
    "        attn_scores = self.attention(outputs)           # (batch, seq_len, 1)\n",
    "        attn_weights = torch.softmax(attn_scores, dim=1)   # (batch, seq_len, 1)\n",
    "        context = torch.sum(attn_weights * outputs, dim=1) # (batch, hidden_size*2)\n",
    "\n",
    "        context = self.layer_norm(context)\n",
    "        context = self.dp(context)\n",
    "        logits = self.fc(context)\n",
    "        return logits\n"
   ]
  },
  {
   "cell_type": "code",
   "execution_count": 9,
   "id": "5a1c6c16-9f1a-440a-b04b-3abbdb888c88",
   "metadata": {},
   "outputs": [],
   "source": [
    "# Обрежем вероятности на количество реальных слогов и проиндексируем с нуля\n",
    "def masked_cross_entropy_loss(logits, stresses, num_syllables):\n",
    "    batch_loss = 0.0\n",
    "    batch_size = logits.size(0)\n",
    "    for i in range(batch_size):\n",
    "        valid_len = num_syllables[i].item()  # число слогов в слове\n",
    "        logit_i = logits[i, :valid_len]  # учитываем только допустимые позиции\n",
    "        target = stresses[i].item() - 1  # перевод target'а в 0-indexed\n",
    "        loss_i = nn.functional.cross_entropy(logit_i.unsqueeze(0), torch.tensor([target], device=logits.device))\n",
    "        batch_loss += loss_i\n",
    "    return batch_loss / batch_size\n",
    "\n",
    "# Функция обучения модели\n",
    "def train_model(model, dataloader, optimizer, device):\n",
    "    model.train()\n",
    "    total_loss = 0.0\n",
    "    for batch in tqdm(dataloader, desc=\"Training\"):\n",
    "        optimizer.zero_grad()\n",
    "        inputs = batch['encoded'].to(device)\n",
    "        lengths = batch['lengths']\n",
    "        logits = model(inputs, lengths)\n",
    "        stresses = batch['stress'].to(device)\n",
    "        num_syllables = batch['num_syllables'].to(device)\n",
    "        loss = masked_cross_entropy_loss(logits, stresses, num_syllables)\n",
    "        loss.backward()\n",
    "        optimizer.step()\n",
    "        total_loss += loss.item()\n",
    "    return total_loss / len(dataloader)\n",
    "\n",
    "# Функция для оценки точности (на обучающем/валидационном наборе)\n",
    "def evaluate_model(model, dataloader, device):\n",
    "    model.eval()\n",
    "    correct = 0\n",
    "    total = 0\n",
    "    total_loss = 0.0\n",
    "    with torch.no_grad():\n",
    "        for batch in tqdm(dataloader, desc=\"Evaluating\"):\n",
    "            inputs = batch['encoded'].to(device)\n",
    "            lengths = batch['lengths']\n",
    "            logits = model(inputs, lengths)\n",
    "            stresses = batch['stress'].to(device)\n",
    "            num_syllables = batch['num_syllables'].to(device)\n",
    "            loss = masked_cross_entropy_loss(logits, stresses, num_syllables)\n",
    "            total_loss += loss.item()\n",
    "            for i in range(logits.size(0)):\n",
    "                valid_len = num_syllables[i].item()\n",
    "                logit_i = logits[i, :valid_len]\n",
    "                pred = torch.argmax(logit_i).item()  # 0-indexed\n",
    "                true = stresses[i].item() - 1\n",
    "                if pred == true:\n",
    "                    correct += 1\n",
    "                total += 1\n",
    "    epoch_loss = total_loss / len(dataloader)\n",
    "    epoch_acc = correct / total\n",
    "    return epoch_acc, epoch_loss\n",
    "\n",
    "# Функция предсказания на тестовых данных \n",
    "# (именно которые без готовой расстановки ударений)\n",
    "def predict(model, dataloader, device):\n",
    "    model.eval()\n",
    "    predictions = []\n",
    "    ids_all = []\n",
    "    with torch.no_grad():\n",
    "        for batch in tqdm(dataloader, desc=\"Predicting\"):\n",
    "            inputs = batch['encoded'].to(device)\n",
    "            lengths = batch['lengths']\n",
    "            logits = model(inputs, lengths)\n",
    "            num_syllables = batch['num_syllables']\n",
    "            ids_batch = batch['id']\n",
    "            for i in range(logits.size(0)):\n",
    "                valid_len = num_syllables[i].item()\n",
    "                logit_i = logits[i, :valid_len]\n",
    "                # Выбираем индекс с максимальным значением и переводим в 1-indexed.\n",
    "                pred = torch.argmax(logit_i).item() + 1\n",
    "                predictions.append(pred)\n",
    "            ids_all.extend(ids_batch)\n",
    "    return ids_all, predictions"
   ]
  },
  {
   "cell_type": "code",
   "execution_count": 10,
   "id": "e2e6c5ec-5215-4255-99f4-94d44128d449",
   "metadata": {},
   "outputs": [],
   "source": [
    "# Основная функция: режимы обучения и предсказания.\n",
    "def main(args):\n",
    "    device = torch.device(\"cuda\" if torch.cuda.is_available() else \"cpu\")\n",
    "    \n",
    "    if args.mode == 'train':\n",
    "        # Загружаем данные\n",
    "        dataset = StressDataset('train.csv', mode='train')\n",
    "        # Зададим размеры\n",
    "        train_size = int(args.train_size * len(dataset))\n",
    "        val_size = len(dataset) - train_size\n",
    "        # Разобьём на тренировочный и валидационный\n",
    "        train_dataset, val_dataset = random_split(dataset, [train_size, val_size])\n",
    "        \n",
    "        # Сохраним словарь символов для использования при предсказании\n",
    "        char2idx = dataset.char2idx\n",
    "        train_loader = DataLoader(train_dataset, batch_size=args.batch_size, shuffle=True, collate_fn=collate_fn)\n",
    "        val_loader = DataLoader(val_dataset, batch_size=args.batch_size, shuffle=False, collate_fn=collate_fn)\n",
    "\n",
    "        max_num_syllables = max(dataset.num_syllables)\n",
    "        model = StressModel(vocab_size=len(char2idx), embed_dim=args.embed_dim, hidden_size=args.hidden_size, num_classes=max_num_syllables)\n",
    "        model.to(device)\n",
    "        optimizer = optim.Adam(model.parameters(), lr=args.lr)\n",
    "        num_epochs = args.epochs\n",
    "\n",
    "        history = {'train_losses': [], 'val_losses': []}\n",
    "        for epoch in range(num_epochs):\n",
    "            train_losses = []\n",
    "            val_losses = []\n",
    "            train_loss = train_model(model, train_loader, optimizer, device)\n",
    "            val_acc, val_loss = evaluate_model(model, val_loader, device)\n",
    "            history['train_losses'].append(train_loss)\n",
    "            history['val_losses'].append(val_loss)\n",
    "            print(f\"Epoch {epoch+1}/{num_epochs}, Train Loss: {train_loss:.4f}, Validation Loss: {val_loss:.4f}, Validation Accuracy: {val_acc:.4f}\")\n",
    "        \n",
    "        # Сохраняем модель и словарь\n",
    "        torch.save({'model_state_dict': model.state_dict(), 'char2idx': char2idx}, args.model_path)\n",
    "        # Сохраним  историю для графика, чтобы проверить на переобучение\n",
    "        print(f\"Model saved to {args.model_path}\")\n",
    "        return history\n",
    "    \n",
    "    elif args.mode == 'predict':\n",
    "        # Загружаем словарь.\n",
    "        checkpoint = torch.load(args.model_path, map_location=device)\n",
    "        char2idx = checkpoint['char2idx']\n",
    "        # Загружаем тестовый датасет.\n",
    "        test_dataset = StressDataset('test.csv', char2idx=char2idx, mode='test')\n",
    "        test_loader = DataLoader(test_dataset, batch_size=args.batch_size, shuffle=False, collate_fn=collate_fn)\n",
    "        max_num_syllables = max(test_dataset.num_syllables)\n",
    "        # Загружаем модель.\n",
    "        model = StressModel(vocab_size=len(char2idx), embed_dim=args.embed_dim, hidden_size=args.hidden_size, num_classes=max_num_syllables)\n",
    "        model.load_state_dict(checkpoint['model_state_dict'])\n",
    "        model.to(device)\n",
    "        # Предсказываем\n",
    "        ids_all, preds = predict(model, test_loader, device)\n",
    "        # Сохраняем сабмит в формате: id,stress\n",
    "        submission = pd.DataFrame({'id': ids_all, 'stress': preds})\n",
    "        submission.to_csv(args.output, index=False)\n",
    "        print(f\"Submission saved to {args.output}\")\n",
    "        return None"
   ]
  },
  {
   "cell_type": "code",
   "execution_count": 11,
   "id": "dcfafc58-fad0-4c3f-8ae0-b25c048b122f",
   "metadata": {
    "scrolled": true
   },
   "outputs": [],
   "source": [
    "class Args():\n",
    "    def __init__(self, args):\n",
    "        self.mode = args['mode']\n",
    "        self.batch_size = args['batch_size']\n",
    "        self.epochs = args['epochs']\n",
    "        self.lr = args['lr']\n",
    "        self.embed_dim = args['embed_dim']\n",
    "        self.hidden_size = args['hidden_size']\n",
    "        self.train_size = args['train_size']\n",
    "        self.model_path = args['model_path']\n",
    "        self.output = args['output']"
   ]
  },
  {
   "cell_type": "code",
   "execution_count": 12,
   "id": "3ad322f4-0eab-4178-bd1c-633779e563c5",
   "metadata": {
    "scrolled": true
   },
   "outputs": [
    {
     "name": "stderr",
     "output_type": "stream",
     "text": [
      "Training: 100%|██████████████████████████████████████████████████████████████████████| 893/893 [00:45<00:00, 19.52it/s]\n",
      "Evaluating: 100%|████████████████████████████████████████████████████████████████████| 100/100 [00:04<00:00, 23.17it/s]\n"
     ]
    },
    {
     "name": "stdout",
     "output_type": "stream",
     "text": [
      "Epoch 1/40, Train Loss: 0.7805, Validation Loss: 0.5683, Validation Accuracy: 0.7621\n"
     ]
    },
    {
     "name": "stderr",
     "output_type": "stream",
     "text": [
      "Training: 100%|██████████████████████████████████████████████████████████████████████| 893/893 [00:45<00:00, 19.65it/s]\n",
      "Evaluating: 100%|████████████████████████████████████████████████████████████████████| 100/100 [00:04<00:00, 21.72it/s]\n"
     ]
    },
    {
     "name": "stdout",
     "output_type": "stream",
     "text": [
      "Epoch 2/40, Train Loss: 0.5316, Validation Loss: 0.4542, Validation Accuracy: 0.8153\n"
     ]
    },
    {
     "name": "stderr",
     "output_type": "stream",
     "text": [
      "Training: 100%|██████████████████████████████████████████████████████████████████████| 893/893 [00:49<00:00, 18.16it/s]\n",
      "Evaluating: 100%|████████████████████████████████████████████████████████████████████| 100/100 [00:04<00:00, 22.57it/s]\n"
     ]
    },
    {
     "name": "stdout",
     "output_type": "stream",
     "text": [
      "Epoch 3/40, Train Loss: 0.4748, Validation Loss: 0.4219, Validation Accuracy: 0.8257\n"
     ]
    },
    {
     "name": "stderr",
     "output_type": "stream",
     "text": [
      "Training: 100%|██████████████████████████████████████████████████████████████████████| 893/893 [00:49<00:00, 18.04it/s]\n",
      "Evaluating: 100%|████████████████████████████████████████████████████████████████████| 100/100 [00:04<00:00, 22.58it/s]\n"
     ]
    },
    {
     "name": "stdout",
     "output_type": "stream",
     "text": [
      "Epoch 4/40, Train Loss: 0.4420, Validation Loss: 0.4162, Validation Accuracy: 0.8381\n"
     ]
    },
    {
     "name": "stderr",
     "output_type": "stream",
     "text": [
      "Training: 100%|██████████████████████████████████████████████████████████████████████| 893/893 [00:48<00:00, 18.24it/s]\n",
      "Evaluating: 100%|████████████████████████████████████████████████████████████████████| 100/100 [00:04<00:00, 21.45it/s]\n"
     ]
    },
    {
     "name": "stdout",
     "output_type": "stream",
     "text": [
      "Epoch 5/40, Train Loss: 0.4265, Validation Loss: 0.4092, Validation Accuracy: 0.8354\n"
     ]
    },
    {
     "name": "stderr",
     "output_type": "stream",
     "text": [
      "Training: 100%|██████████████████████████████████████████████████████████████████████| 893/893 [00:51<00:00, 17.41it/s]\n",
      "Evaluating: 100%|████████████████████████████████████████████████████████████████████| 100/100 [00:04<00:00, 20.72it/s]\n"
     ]
    },
    {
     "name": "stdout",
     "output_type": "stream",
     "text": [
      "Epoch 6/40, Train Loss: 0.4140, Validation Loss: 0.3966, Validation Accuracy: 0.8419\n"
     ]
    },
    {
     "name": "stderr",
     "output_type": "stream",
     "text": [
      "Training: 100%|██████████████████████████████████████████████████████████████████████| 893/893 [00:55<00:00, 16.23it/s]\n",
      "Evaluating: 100%|████████████████████████████████████████████████████████████████████| 100/100 [00:05<00:00, 19.89it/s]\n"
     ]
    },
    {
     "name": "stdout",
     "output_type": "stream",
     "text": [
      "Epoch 7/40, Train Loss: 0.4107, Validation Loss: 0.3862, Validation Accuracy: 0.8400\n"
     ]
    },
    {
     "name": "stderr",
     "output_type": "stream",
     "text": [
      "Training: 100%|██████████████████████████████████████████████████████████████████████| 893/893 [00:50<00:00, 17.55it/s]\n",
      "Evaluating: 100%|████████████████████████████████████████████████████████████████████| 100/100 [00:04<00:00, 22.57it/s]\n"
     ]
    },
    {
     "name": "stdout",
     "output_type": "stream",
     "text": [
      "Epoch 8/40, Train Loss: 0.4161, Validation Loss: 0.3940, Validation Accuracy: 0.8392\n"
     ]
    },
    {
     "name": "stderr",
     "output_type": "stream",
     "text": [
      "Training: 100%|██████████████████████████████████████████████████████████████████████| 893/893 [00:49<00:00, 18.02it/s]\n",
      "Evaluating: 100%|████████████████████████████████████████████████████████████████████| 100/100 [00:04<00:00, 22.61it/s]\n"
     ]
    },
    {
     "name": "stdout",
     "output_type": "stream",
     "text": [
      "Epoch 9/40, Train Loss: 0.4094, Validation Loss: 0.3758, Validation Accuracy: 0.8466\n"
     ]
    },
    {
     "name": "stderr",
     "output_type": "stream",
     "text": [
      "Training: 100%|██████████████████████████████████████████████████████████████████████| 893/893 [00:49<00:00, 18.06it/s]\n",
      "Evaluating: 100%|████████████████████████████████████████████████████████████████████| 100/100 [00:04<00:00, 21.64it/s]\n"
     ]
    },
    {
     "name": "stdout",
     "output_type": "stream",
     "text": [
      "Epoch 10/40, Train Loss: 0.4137, Validation Loss: 0.3725, Validation Accuracy: 0.8490\n"
     ]
    },
    {
     "name": "stderr",
     "output_type": "stream",
     "text": [
      "Training: 100%|██████████████████████████████████████████████████████████████████████| 893/893 [00:49<00:00, 17.99it/s]\n",
      "Evaluating: 100%|████████████████████████████████████████████████████████████████████| 100/100 [00:04<00:00, 21.77it/s]\n"
     ]
    },
    {
     "name": "stdout",
     "output_type": "stream",
     "text": [
      "Epoch 11/40, Train Loss: 0.4109, Validation Loss: 0.3950, Validation Accuracy: 0.8375\n"
     ]
    },
    {
     "name": "stderr",
     "output_type": "stream",
     "text": [
      "Training: 100%|██████████████████████████████████████████████████████████████████████| 893/893 [00:49<00:00, 17.88it/s]\n",
      "Evaluating: 100%|████████████████████████████████████████████████████████████████████| 100/100 [00:04<00:00, 22.45it/s]\n"
     ]
    },
    {
     "name": "stdout",
     "output_type": "stream",
     "text": [
      "Epoch 12/40, Train Loss: 0.4075, Validation Loss: 0.3863, Validation Accuracy: 0.8462\n"
     ]
    },
    {
     "name": "stderr",
     "output_type": "stream",
     "text": [
      "Training: 100%|██████████████████████████████████████████████████████████████████████| 893/893 [00:50<00:00, 17.84it/s]\n",
      "Evaluating: 100%|████████████████████████████████████████████████████████████████████| 100/100 [00:04<00:00, 22.10it/s]\n"
     ]
    },
    {
     "name": "stdout",
     "output_type": "stream",
     "text": [
      "Epoch 13/40, Train Loss: 0.4199, Validation Loss: 0.3984, Validation Accuracy: 0.8392\n"
     ]
    },
    {
     "name": "stderr",
     "output_type": "stream",
     "text": [
      "Training: 100%|██████████████████████████████████████████████████████████████████████| 893/893 [00:50<00:00, 17.73it/s]\n",
      "Evaluating: 100%|████████████████████████████████████████████████████████████████████| 100/100 [00:04<00:00, 20.35it/s]\n"
     ]
    },
    {
     "name": "stdout",
     "output_type": "stream",
     "text": [
      "Epoch 14/40, Train Loss: 0.4245, Validation Loss: 0.3961, Validation Accuracy: 0.8398\n"
     ]
    },
    {
     "name": "stderr",
     "output_type": "stream",
     "text": [
      "Training: 100%|██████████████████████████████████████████████████████████████████████| 893/893 [00:50<00:00, 17.77it/s]\n",
      "Evaluating: 100%|████████████████████████████████████████████████████████████████████| 100/100 [00:04<00:00, 22.62it/s]\n"
     ]
    },
    {
     "name": "stdout",
     "output_type": "stream",
     "text": [
      "Epoch 15/40, Train Loss: 0.4263, Validation Loss: 0.4161, Validation Accuracy: 0.8317\n"
     ]
    },
    {
     "name": "stderr",
     "output_type": "stream",
     "text": [
      "Training: 100%|██████████████████████████████████████████████████████████████████████| 893/893 [00:51<00:00, 17.49it/s]\n",
      "Evaluating: 100%|████████████████████████████████████████████████████████████████████| 100/100 [00:04<00:00, 21.71it/s]\n"
     ]
    },
    {
     "name": "stdout",
     "output_type": "stream",
     "text": [
      "Epoch 16/40, Train Loss: 0.4287, Validation Loss: 0.4124, Validation Accuracy: 0.8324\n"
     ]
    },
    {
     "name": "stderr",
     "output_type": "stream",
     "text": [
      "Training: 100%|██████████████████████████████████████████████████████████████████████| 893/893 [00:51<00:00, 17.36it/s]\n",
      "Evaluating: 100%|████████████████████████████████████████████████████████████████████| 100/100 [00:04<00:00, 22.51it/s]\n"
     ]
    },
    {
     "name": "stdout",
     "output_type": "stream",
     "text": [
      "Epoch 17/40, Train Loss: 0.4387, Validation Loss: 0.4308, Validation Accuracy: 0.8249\n"
     ]
    },
    {
     "name": "stderr",
     "output_type": "stream",
     "text": [
      "Training: 100%|██████████████████████████████████████████████████████████████████████| 893/893 [00:49<00:00, 18.11it/s]\n",
      "Evaluating: 100%|████████████████████████████████████████████████████████████████████| 100/100 [00:04<00:00, 23.03it/s]\n"
     ]
    },
    {
     "name": "stdout",
     "output_type": "stream",
     "text": [
      "Epoch 18/40, Train Loss: 0.4352, Validation Loss: 0.4024, Validation Accuracy: 0.8386\n"
     ]
    },
    {
     "name": "stderr",
     "output_type": "stream",
     "text": [
      "Training: 100%|██████████████████████████████████████████████████████████████████████| 893/893 [00:50<00:00, 17.81it/s]\n",
      "Evaluating: 100%|████████████████████████████████████████████████████████████████████| 100/100 [00:04<00:00, 22.11it/s]\n"
     ]
    },
    {
     "name": "stdout",
     "output_type": "stream",
     "text": [
      "Epoch 19/40, Train Loss: 0.4405, Validation Loss: 0.4203, Validation Accuracy: 0.8310\n"
     ]
    },
    {
     "name": "stderr",
     "output_type": "stream",
     "text": [
      "Training: 100%|██████████████████████████████████████████████████████████████████████| 893/893 [00:49<00:00, 17.93it/s]\n",
      "Evaluating: 100%|████████████████████████████████████████████████████████████████████| 100/100 [00:04<00:00, 22.82it/s]\n"
     ]
    },
    {
     "name": "stdout",
     "output_type": "stream",
     "text": [
      "Epoch 20/40, Train Loss: 0.4464, Validation Loss: 0.4242, Validation Accuracy: 0.8301\n"
     ]
    },
    {
     "name": "stderr",
     "output_type": "stream",
     "text": [
      "Training: 100%|██████████████████████████████████████████████████████████████████████| 893/893 [00:49<00:00, 18.05it/s]\n",
      "Evaluating: 100%|████████████████████████████████████████████████████████████████████| 100/100 [00:04<00:00, 22.53it/s]\n"
     ]
    },
    {
     "name": "stdout",
     "output_type": "stream",
     "text": [
      "Epoch 21/40, Train Loss: 0.4471, Validation Loss: 0.4151, Validation Accuracy: 0.8318\n"
     ]
    },
    {
     "name": "stderr",
     "output_type": "stream",
     "text": [
      "Training: 100%|██████████████████████████████████████████████████████████████████████| 893/893 [00:49<00:00, 18.04it/s]\n",
      "Evaluating: 100%|████████████████████████████████████████████████████████████████████| 100/100 [00:04<00:00, 22.09it/s]\n"
     ]
    },
    {
     "name": "stdout",
     "output_type": "stream",
     "text": [
      "Epoch 22/40, Train Loss: 0.4483, Validation Loss: 0.4169, Validation Accuracy: 0.8288\n"
     ]
    },
    {
     "name": "stderr",
     "output_type": "stream",
     "text": [
      "Training: 100%|██████████████████████████████████████████████████████████████████████| 893/893 [00:50<00:00, 17.83it/s]\n",
      "Evaluating: 100%|████████████████████████████████████████████████████████████████████| 100/100 [00:04<00:00, 22.43it/s]\n"
     ]
    },
    {
     "name": "stdout",
     "output_type": "stream",
     "text": [
      "Epoch 23/40, Train Loss: 0.4622, Validation Loss: 0.4340, Validation Accuracy: 0.8253\n"
     ]
    },
    {
     "name": "stderr",
     "output_type": "stream",
     "text": [
      "Training: 100%|██████████████████████████████████████████████████████████████████████| 893/893 [00:49<00:00, 18.13it/s]\n",
      "Evaluating: 100%|████████████████████████████████████████████████████████████████████| 100/100 [00:04<00:00, 22.89it/s]\n"
     ]
    },
    {
     "name": "stdout",
     "output_type": "stream",
     "text": [
      "Epoch 24/40, Train Loss: 0.4669, Validation Loss: 0.4372, Validation Accuracy: 0.8220\n"
     ]
    },
    {
     "name": "stderr",
     "output_type": "stream",
     "text": [
      "Training: 100%|██████████████████████████████████████████████████████████████████████| 893/893 [00:49<00:00, 18.18it/s]\n",
      "Evaluating: 100%|████████████████████████████████████████████████████████████████████| 100/100 [00:04<00:00, 22.68it/s]\n"
     ]
    },
    {
     "name": "stdout",
     "output_type": "stream",
     "text": [
      "Epoch 25/40, Train Loss: 0.4813, Validation Loss: 0.4421, Validation Accuracy: 0.8194\n"
     ]
    },
    {
     "name": "stderr",
     "output_type": "stream",
     "text": [
      "Training: 100%|██████████████████████████████████████████████████████████████████████| 893/893 [00:49<00:00, 18.16it/s]\n",
      "Evaluating: 100%|████████████████████████████████████████████████████████████████████| 100/100 [00:04<00:00, 23.35it/s]\n"
     ]
    },
    {
     "name": "stdout",
     "output_type": "stream",
     "text": [
      "Epoch 26/40, Train Loss: 0.4841, Validation Loss: 0.4473, Validation Accuracy: 0.8189\n"
     ]
    },
    {
     "name": "stderr",
     "output_type": "stream",
     "text": [
      "Training: 100%|██████████████████████████████████████████████████████████████████████| 893/893 [00:48<00:00, 18.26it/s]\n",
      "Evaluating: 100%|████████████████████████████████████████████████████████████████████| 100/100 [00:04<00:00, 22.85it/s]\n"
     ]
    },
    {
     "name": "stdout",
     "output_type": "stream",
     "text": [
      "Epoch 27/40, Train Loss: 0.4925, Validation Loss: 0.4597, Validation Accuracy: 0.8102\n"
     ]
    },
    {
     "name": "stderr",
     "output_type": "stream",
     "text": [
      "Training: 100%|██████████████████████████████████████████████████████████████████████| 893/893 [00:49<00:00, 18.07it/s]\n",
      "Evaluating: 100%|████████████████████████████████████████████████████████████████████| 100/100 [00:04<00:00, 22.94it/s]\n"
     ]
    },
    {
     "name": "stdout",
     "output_type": "stream",
     "text": [
      "Epoch 28/40, Train Loss: 0.4962, Validation Loss: 0.4485, Validation Accuracy: 0.8121\n"
     ]
    },
    {
     "name": "stderr",
     "output_type": "stream",
     "text": [
      "Training: 100%|██████████████████████████████████████████████████████████████████████| 893/893 [00:49<00:00, 17.94it/s]\n",
      "Evaluating: 100%|████████████████████████████████████████████████████████████████████| 100/100 [00:04<00:00, 23.40it/s]\n"
     ]
    },
    {
     "name": "stdout",
     "output_type": "stream",
     "text": [
      "Epoch 29/40, Train Loss: 0.4990, Validation Loss: 0.4622, Validation Accuracy: 0.8102\n"
     ]
    },
    {
     "name": "stderr",
     "output_type": "stream",
     "text": [
      "Training: 100%|██████████████████████████████████████████████████████████████████████| 893/893 [00:49<00:00, 18.11it/s]\n",
      "Evaluating: 100%|████████████████████████████████████████████████████████████████████| 100/100 [00:04<00:00, 22.10it/s]\n"
     ]
    },
    {
     "name": "stdout",
     "output_type": "stream",
     "text": [
      "Epoch 30/40, Train Loss: 0.4966, Validation Loss: 0.4533, Validation Accuracy: 0.8118\n"
     ]
    },
    {
     "name": "stderr",
     "output_type": "stream",
     "text": [
      "Training: 100%|██████████████████████████████████████████████████████████████████████| 893/893 [00:49<00:00, 18.01it/s]\n",
      "Evaluating: 100%|████████████████████████████████████████████████████████████████████| 100/100 [00:04<00:00, 22.45it/s]\n"
     ]
    },
    {
     "name": "stdout",
     "output_type": "stream",
     "text": [
      "Epoch 31/40, Train Loss: 0.5015, Validation Loss: 0.4500, Validation Accuracy: 0.8145\n"
     ]
    },
    {
     "name": "stderr",
     "output_type": "stream",
     "text": [
      "Training: 100%|██████████████████████████████████████████████████████████████████████| 893/893 [00:49<00:00, 17.94it/s]\n",
      "Evaluating: 100%|████████████████████████████████████████████████████████████████████| 100/100 [00:04<00:00, 22.76it/s]\n"
     ]
    },
    {
     "name": "stdout",
     "output_type": "stream",
     "text": [
      "Epoch 32/40, Train Loss: 0.5058, Validation Loss: 0.4589, Validation Accuracy: 0.8085\n"
     ]
    },
    {
     "name": "stderr",
     "output_type": "stream",
     "text": [
      "Training: 100%|██████████████████████████████████████████████████████████████████████| 893/893 [00:49<00:00, 18.10it/s]\n",
      "Evaluating: 100%|████████████████████████████████████████████████████████████████████| 100/100 [00:04<00:00, 23.08it/s]\n"
     ]
    },
    {
     "name": "stdout",
     "output_type": "stream",
     "text": [
      "Epoch 33/40, Train Loss: 0.5098, Validation Loss: 0.4755, Validation Accuracy: 0.8052\n"
     ]
    },
    {
     "name": "stderr",
     "output_type": "stream",
     "text": [
      "Training: 100%|██████████████████████████████████████████████████████████████████████| 893/893 [00:49<00:00, 18.06it/s]\n",
      "Evaluating: 100%|████████████████████████████████████████████████████████████████████| 100/100 [00:04<00:00, 21.89it/s]\n"
     ]
    },
    {
     "name": "stdout",
     "output_type": "stream",
     "text": [
      "Epoch 34/40, Train Loss: 0.5182, Validation Loss: 0.4692, Validation Accuracy: 0.8075\n"
     ]
    },
    {
     "name": "stderr",
     "output_type": "stream",
     "text": [
      "Training: 100%|██████████████████████████████████████████████████████████████████████| 893/893 [00:49<00:00, 17.97it/s]\n",
      "Evaluating: 100%|████████████████████████████████████████████████████████████████████| 100/100 [00:04<00:00, 22.02it/s]\n"
     ]
    },
    {
     "name": "stdout",
     "output_type": "stream",
     "text": [
      "Epoch 35/40, Train Loss: 0.5261, Validation Loss: 0.4734, Validation Accuracy: 0.7981\n"
     ]
    },
    {
     "name": "stderr",
     "output_type": "stream",
     "text": [
      "Training: 100%|██████████████████████████████████████████████████████████████████████| 893/893 [00:49<00:00, 18.14it/s]\n",
      "Evaluating: 100%|████████████████████████████████████████████████████████████████████| 100/100 [00:04<00:00, 22.98it/s]\n"
     ]
    },
    {
     "name": "stdout",
     "output_type": "stream",
     "text": [
      "Epoch 36/40, Train Loss: 0.5250, Validation Loss: 0.4733, Validation Accuracy: 0.8038\n"
     ]
    },
    {
     "name": "stderr",
     "output_type": "stream",
     "text": [
      "Training: 100%|██████████████████████████████████████████████████████████████████████| 893/893 [00:50<00:00, 17.86it/s]\n",
      "Evaluating: 100%|████████████████████████████████████████████████████████████████████| 100/100 [00:04<00:00, 22.48it/s]\n"
     ]
    },
    {
     "name": "stdout",
     "output_type": "stream",
     "text": [
      "Epoch 37/40, Train Loss: 0.5232, Validation Loss: 0.4797, Validation Accuracy: 0.8014\n"
     ]
    },
    {
     "name": "stderr",
     "output_type": "stream",
     "text": [
      "Training: 100%|██████████████████████████████████████████████████████████████████████| 893/893 [00:49<00:00, 18.08it/s]\n",
      "Evaluating: 100%|████████████████████████████████████████████████████████████████████| 100/100 [00:04<00:00, 22.65it/s]\n"
     ]
    },
    {
     "name": "stdout",
     "output_type": "stream",
     "text": [
      "Epoch 38/40, Train Loss: 0.5316, Validation Loss: 0.4865, Validation Accuracy: 0.7974\n"
     ]
    },
    {
     "name": "stderr",
     "output_type": "stream",
     "text": [
      "Training: 100%|██████████████████████████████████████████████████████████████████████| 893/893 [00:49<00:00, 17.93it/s]\n",
      "Evaluating: 100%|████████████████████████████████████████████████████████████████████| 100/100 [00:04<00:00, 22.79it/s]\n"
     ]
    },
    {
     "name": "stdout",
     "output_type": "stream",
     "text": [
      "Epoch 39/40, Train Loss: 0.5374, Validation Loss: 0.5018, Validation Accuracy: 0.7935\n"
     ]
    },
    {
     "name": "stderr",
     "output_type": "stream",
     "text": [
      "Training: 100%|██████████████████████████████████████████████████████████████████████| 893/893 [00:49<00:00, 17.93it/s]\n",
      "Evaluating: 100%|████████████████████████████████████████████████████████████████████| 100/100 [00:04<00:00, 22.40it/s]\n"
     ]
    },
    {
     "name": "stdout",
     "output_type": "stream",
     "text": [
      "Epoch 40/40, Train Loss: 0.5333, Validation Loss: 0.4811, Validation Accuracy: 0.8036\n",
      "Model saved to stress_model.pth\n"
     ]
    },
    {
     "name": "stderr",
     "output_type": "stream",
     "text": [
      "Predicting: 100%|████████████████████████████████████████████████████████████████████| 469/469 [00:08<00:00, 58.55it/s]\n"
     ]
    },
    {
     "name": "stdout",
     "output_type": "stream",
     "text": [
      "Submission saved to submission.csv\n"
     ]
    }
   ],
   "source": [
    "if __name__ == '__main__':\n",
    "    args = dict()\n",
    "    args['mode'] = 'train'\n",
    "    # args['mode'] = 'predict'\n",
    "    args['batch_size'] = 64\n",
    "    args['epochs'] = 40\n",
    "    args['lr'] = 0.005\n",
    "    args['embed_dim'] = 64\n",
    "    args['hidden_size'] = 256\n",
    "    args['train_size'] = 0.90\n",
    "    args['model_path'] = 'stress_model.pth'\n",
    "    args['output'] = 'submission.csv'\n",
    "    parser = Args(args)\n",
    "    # Trin\n",
    "    history = main(parser)\n",
    "    # Predict\n",
    "    args['mode'] = 'predict'\n",
    "    parser = Args(args)\n",
    "    main(parser)"
   ]
  },
  {
   "cell_type": "code",
   "execution_count": 13,
   "id": "78cfa8ad-a679-448f-9edd-8b83a3564f71",
   "metadata": {},
   "outputs": [],
   "source": [
    "# График для проверки переобучения\n",
    "def plot_losses(history):\n",
    "    train_losses = history['train_losses']\n",
    "    val_losses = history['val_losses']\n",
    "    plt.plot(train_losses, '-bx')\n",
    "    plt.plot(val_losses, '-rx')\n",
    "    plt.xlabel('epoch')\n",
    "    plt.ylabel('loss')\n",
    "    plt.legend(['Training', 'Validation'])\n",
    "    plt.title('Loss vs. No. of epochs');"
   ]
  },
  {
   "cell_type": "code",
   "execution_count": 14,
   "id": "227bf0d7-ed6a-485e-93af-e46d81b25c9f",
   "metadata": {},
   "outputs": [
    {
     "data": {
      "image/png": "[encoded data removed]",
      "text/plain": [
       "<Figure size 640x480 with 1 Axes>"
      ]
     },
     "metadata": {},
     "output_type": "display_data"
    }
   ],
   "source": [
    "plot_losses(history)"
   ]
  },
  {
   "cell_type": "code",
   "execution_count": null,
   "id": "72031e82-34d2-4d11-b5aa-b31c1392689e",
   "metadata": {},
   "outputs": [],
   "source": []
  },
  {
   "cell_type": "markdown",
   "id": "92cba4da-d413-49cc-93f9-964e3c87aa63",
   "metadata": {},
   "source": [
    "1. Train Loss: 0.4344, Validation Loss: 0.3879, Validation Accuracy: 0.8473 - relu\n",
    "2. Train Loss: 0.3968, Validation Loss: 0.3625, Validation Accuracy: 0.8602 - лучшая архитектура +++\n",
    "3. Train Loss: 0.5333, Validation Loss: 0.4811, Validation Accuracy: 0.8036 - hidden_size = 256\n",
    "4. Train Loss: 0.3708, Validation Loss: 0.3748, Validation Accuracy: 0.8596 - embed_dim = 128 ++\n",
    "5. Train Loss: 0.0857, Validation Loss: 0.3747, Validation Accuracy: 0.9005 - только механизм внимания - переобучение, но если остановить вовремя, модель неплохая относительно других +++"
   ]
  },
  {
   "cell_type": "code",
   "execution_count": null,
   "id": "e495d577-ab46-4388-9fb9-9c4a8142cde7",
   "metadata": {},
   "outputs": [],
   "source": []
  }
 ],
 "metadata": {
  "kernelspec": {
   "display_name": "Python 3 (ipykernel)",
   "language": "python",
   "name": "python3"
  },
  "language_info": {
   "codemirror_mode": {
    "name": "ipython",
    "version": 3
   },
   "file_extension": ".py",
   "mimetype": "text/x-python",
   "name": "python",
   "nbconvert_exporter": "python",
   "pygments_lexer": "ipython3",
   "version": "3.10.7"
  }
 },
 "nbformat": 4,
 "nbformat_minor": 5
}
